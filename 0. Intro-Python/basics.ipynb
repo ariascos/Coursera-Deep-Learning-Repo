{
 "cells": [
  {
   "cell_type": "markdown",
   "metadata": {},
   "source": [
    "<img src=\"https://raw.githubusercontent.com/paular143/images_notebooks/master/logo-sin-nombre.png\" alt=\"Universidad de Los Andes\" style=\"width: 90px;\" align=\"left\" frameborder=\"300\"/>\n",
    "\n",
    "**UNIVERSIDAD DE LOS ANDES** <br>\n",
    "**FACULTAD DE ECONOMÍA** <br>\n",
    "**TÓPICOS EN APRENDIZAJE DE MÁQUINAS** <br>\n",
    "**CON LA COLABORACION DE:** Jose S. Ñungo y Nicolas Rugeles <br><br>\n",
    "\n"
   ]
  },
  {
   "cell_type": "markdown",
   "metadata": {},
   "source": [
    "# 1. Introducción a Python\n",
    "\n",
    "<!-- <center> \n",
    "<img src = \"assets\\why_python.PNG\" width = \"500\"/>\n",
    "</center> -->\n",
    "\n",
    "Podemos usar a Python para casi cualquier cosa de desarrollo computacional, pero empecemos con lo primero. Es una calculadora :)"
   ]
  },
  {
   "cell_type": "markdown",
   "metadata": {},
   "source": [
    "## Operaciones básicas\n",
    "Realice alguna operación con los siguientes comandos\n",
    "| Operación | Resultado       |\n",
    "| --------- | --------------- |\n",
    "|    +      | Suma            |\n",
    "|    -      | Resta           |\n",
    "|    *      | Multiplicación  |\n",
    "|    /      | División        |\n",
    "|    %      | Modulo          |\n",
    "|    //     | División entera |\n",
    "|    \\*\\*   | Potencia        |"
   ]
  },
  {
   "cell_type": "code",
   "execution_count": 88,
   "metadata": {},
   "outputs": [
    {
     "name": "stdout",
     "output_type": "stream",
     "text": [
      "### Suma ###\n",
      "10\n",
      "### Resta ###\n",
      "0\n",
      "### Multiplicación ###\n",
      "15\n",
      "### División ###\n",
      "3.3333333333333335\n",
      "### Divisón entera ###\n",
      "3\n",
      "### Modulo ###\n",
      "4\n",
      "### Potencia ###\n",
      "16\n"
     ]
    }
   ],
   "source": [
    "print(\"### Suma ###\")\n",
    "print(5 + 5)\n",
    "print(\"### Resta ###\")\n",
    "print(5 - 5)\n",
    "print(\"### Multiplicación ###\")\n",
    "print(3 * 5)\n",
    "print(\"### División ###\")\n",
    "print(10 / 3)\n",
    "print(\"### Divisón entera ###\")\n",
    "print(10 // 3)\n",
    "print(\"### Modulo ###\")\n",
    "print(18 % 7)\n",
    "print(\"### Potencia ###\")\n",
    "print(4 ** 2)"
   ]
  },
  {
   "cell_type": "markdown",
   "metadata": {},
   "source": [
    "## Variables\n",
    "Para definir variables en Python utilizamos el simbolo de igual (`=`). Como buena práctica de programación, cuando definimos un nombre, utilizamos guión bajo (`_`) para separar las palabras. **Nunca usamos un punto** (Para los que vienen de R). Adicionalmente se debe usar caracteres especiales como tildes o ñ en los nombres de los objetos que definamos.\n",
    "\n",
    "A continuación debe crear 4 variables. \n",
    "- La primera variable se debe llamar `refran` y debe ser un texto alusivo a un refran. Hint: Todos los textos deben estar entre comillas para que Python sepa que son textos.\n",
    "- La segunda variable se debe llamar `x` y debe ser un número entero.\n",
    "- La tercera variable se debe llamar `pi` y debe ser el número pi aproximado\n",
    "- La cuarta variable se debe llamar `condicion` y debe tomar el valor de `True` o `False`"
   ]
  },
  {
   "cell_type": "code",
   "execution_count": 89,
   "metadata": {},
   "outputs": [],
   "source": [
    "refran = \"Al que madruga le da sueño por la tarde\"\n",
    "x = 3\n",
    "pi = 3.1416\n",
    "condicion = True"
   ]
  },
  {
   "cell_type": "markdown",
   "metadata": {},
   "source": [
    "Note que cada variable tiene un color diferente. El color está asociado al **tipo** de variable. En mi caso, se ve rojo si la variable es un texto (*string*), amarillo si es un número (*integer* o *float*) y azul si es una variable booleana (*bool*). Para chequear el tipo de una variable siplemente escribimos:\n",
    "> type(nombre_de_la_variable)"
   ]
  },
  {
   "cell_type": "code",
   "execution_count": 90,
   "metadata": {},
   "outputs": [
    {
     "name": "stdout",
     "output_type": "stream",
     "text": [
      "<class 'str'>\n",
      "<class 'int'>\n",
      "<class 'float'>\n",
      "<class 'bool'>\n"
     ]
    }
   ],
   "source": [
    "print(type(refran))\n",
    "print(type(x))\n",
    "print(type(pi))\n",
    "print(type(condicion))"
   ]
  },
  {
   "cell_type": "markdown",
   "metadata": {},
   "source": [
    "Saber la clase de los objetos con los que trabajamos es muy importante porque dependiendo de esta las operaciones y funciones a implementar van a cambiar su resultado. Por ejemplo, pruebe las siguientes operaciones:\n",
    "```python\n",
    "x + pi\n",
    "pi - 2*condicion\n",
    "not condicion\n",
    "condicion + 0\n",
    "refran + refran\n",
    "refran * 5\n",
    "```"
   ]
  },
  {
   "cell_type": "code",
   "execution_count": 91,
   "metadata": {},
   "outputs": [
    {
     "name": "stdout",
     "output_type": "stream",
     "text": [
      "6.1416\n",
      "1.1416\n",
      "False\n",
      "1\n",
      "Al que madruga le da sueño por la tardeAl que madruga le da sueño por la tarde\n",
      "Al que madruga le da sueño por la tarde Al que madruga le da sueño por la tarde Al que madruga le da sueño por la tarde Al que madruga le da sueño por la tarde Al que madruga le da sueño por la tarde \n"
     ]
    }
   ],
   "source": [
    "print(x + pi)\n",
    "print(pi - 2*condicion) \n",
    "print(not condicion) \n",
    "print(condicion + 0) # True equivale a 1 y False equivale a 0\n",
    "print(refran + refran) # Se pueden concatenar strings usando +\n",
    "print((refran + \" \")* 5) "
   ]
  },
  {
   "cell_type": "markdown",
   "metadata": {},
   "source": [
    "## Listas\n",
    "Las listas son una forma de almacenar una secuencia de objetos (iterables). Una lista puede contener objetos de diferentes tipos e incluso puede contener otras listas. La forma más fácil de construir una lista es con dos corchetes (`[]`) y separando los elementos con una coma (`[\"a\", \"b\"]`)"
   ]
  },
  {
   "cell_type": "code",
   "execution_count": 92,
   "metadata": {},
   "outputs": [
    {
     "name": "stdout",
     "output_type": "stream",
     "text": [
      "['John', 'Paul', 'George', 'Ringo']\n",
      "<class 'list'>\n",
      "[4.2, 3.8, 4.5, 2, 5]\n",
      "['mytext', 3.0, 7, [10, 20]]\n",
      "[]\n"
     ]
    }
   ],
   "source": [
    "beatles = [\"John\", \"Paul\", \"George\", \"Ringo\"]\n",
    "print(beatles)\n",
    "print(type(beatles)) \n",
    "notas_taller1 = [4.2, 3.8, 4.5, 2, 5]\n",
    "print(notas_taller1)\n",
    "random_list = ['mytext', 3.0, 7, [10, 20]]\n",
    "print(random_list)\n",
    "lista_vacia = []\n",
    "print(lista_vacia)"
   ]
  },
  {
   "cell_type": "markdown",
   "metadata": {},
   "source": [
    "Python es un método de programación orientado a objetos, es decir que casi todas las variables que definimos tienen ciertos atributos y propiedades. Las listas son un objeto que nos permite hacer diferentes operaciones. Empecemos partiendo nuestras listas en algunos subconjuntos.\n",
    "\n",
    "Cada elemento de una lista se encuentra en una posición. En Python se le conoce como *index* y **la primera posición es el 0**, la segunda es el 1 y así sucesivamente hasta llegar a la última posición la cual sería n - 1.\n",
    "\n",
    "Por ende, si queremos extraer el primer elemento de una lista debemos escribir `nombre_lista[0]`"
   ]
  },
  {
   "cell_type": "code",
   "execution_count": 93,
   "metadata": {},
   "outputs": [
    {
     "name": "stdout",
     "output_type": "stream",
     "text": [
      "John\n",
      "Paul\n",
      "Ringo\n",
      "George\n",
      "10\n"
     ]
    }
   ],
   "source": [
    "print(beatles[0])\n",
    "print(beatles[1])\n",
    "print(beatles[-1]) # Acceder al último elemento. Tenga en cuenta que es -1 y no -0 (:P).\n",
    "print(beatles[-2]) # Acceder al n-ésimo - 1 elemento.\n",
    "print(random_list[-1][0]) # Acceder al último elemento de la lista que es otra lista. Una vez en esa lista, accedemos al primer elemento de la lista"
   ]
  },
  {
   "cell_type": "markdown",
   "metadata": {},
   "source": [
    "Si queremos extraer más de un elemento podemos usar los siguientes trucos. Tenga en cuenta que los corchetes en Python son inclusivos por la izquierda pero exclusivos por la derecha."
   ]
  },
  {
   "cell_type": "code",
   "execution_count": 94,
   "metadata": {},
   "outputs": [
    {
     "name": "stdout",
     "output_type": "stream",
     "text": [
      "[1, 2, 3, 4, 5]\n",
      "[2, 3, 4, 5]\n",
      "[3]\n",
      "[1, 2, 3]\n",
      "[4, 5, 6, 7, 8, 9, 10]\n",
      "[1, 3, 5]\n",
      "[1, 3, 5, 7, 9]\n",
      "[10, 9, 8, 7, 6, 5, 4, 3, 2, 1]\n",
      "['Hola', 2, 3, 4, 5, 6, 7, 8, 9, 10]\n"
     ]
    }
   ],
   "source": [
    "example = [1, 2, 3, 4, 5, 6, 7, 8, 9, 10] \n",
    "print(example[0:5]) # Extraemos los primeros 5 elementos\n",
    "print(example[1:5]) # De los primeros 5 elementos, extraemos los últimos 4\n",
    "print(example[2:3]) # Solo extraemos el tercer elemento. No incluye el cuarto!\n",
    "print(example[:3]) # Desde el comienzo al tercer elemento. Note que es excluyente a la derecha\n",
    "print(example[3:]) # Desde el cuarto elemento hasta el final de la lista. Note que es incluyente a la izquierda\n",
    "print(example[0:6:2]) # Comenzamos a extraer de 2 en dos desde el elemento 1 hasta el elemento 10. Syntaxis: nombre_lista[indice_inicial:indice_final:tamaño_paso]\n",
    "print(example[::2]) # Extraer toda la lista de 2 en 2\n",
    "print(example[::-1]) # Poner la lista en orden inverso\n",
    "example[0] = \"Hola\" # También podemos modificar la lista\n",
    "print(example)"
   ]
  },
  {
   "cell_type": "markdown",
   "metadata": {},
   "source": [
    "Las operaciones básicas entre listas son muy similares a las operaciones entre strings. \n",
    "\n",
    "OJO: Las listas son estructuras de datos, no vectores."
   ]
  },
  {
   "cell_type": "code",
   "execution_count": 95,
   "metadata": {},
   "outputs": [
    {
     "name": "stdout",
     "output_type": "stream",
     "text": [
      "['Hola', 2, 3, 4, 5, 6, 7, 8, 9, 10, 'Hola', 2, 3, 4, 5, 6, 7, 8, 9, 10]\n",
      "['Hola', 2, 3, 4, 5, 6, 7, 8, 9, 10, 'Hola', 2, 3, 4, 5, 6, 7, 8, 9, 10, 'Hola', 2, 3, 4, 5, 6, 7, 8, 9, 10]\n",
      "['Hola', 2, 3, 4, 5, 6, 7, 8, 9, 10, 'Añadir nuevo elemento a la lista']\n"
     ]
    }
   ],
   "source": [
    "print(example + example)\n",
    "print(example * 3)\n",
    "print(example + [\"Añadir nuevo elemento a la lista\"])"
   ]
  },
  {
   "cell_type": "markdown",
   "metadata": {},
   "source": [
    "## Condiciones\n",
    "Antes de entrar a los *if statements* vamos a estudiar los diferentes tipos de condiciones:\n",
    "| Operador | Resultado\n",
    "| -------- | ---------\n",
    "|   ==     | Igualdad\n",
    "|   !=     | No es igual        \n",
    "|   <      | Menor que\n",
    "|   >      | Mayor que\n",
    "|   <=     | Menor o igual\n",
    "|   >=     | Mayor o igual\n",
    "|   and    | Verifica si dos condiciones se cumplen\n",
    "|   or     | Verifica si se cumple al menos una condición\n",
    "|   not    | Niega una condición\n",
    "|   in     | Verifica si un elemento está en una lista\n",
    "\n",
    "Veamos"
   ]
  },
  {
   "cell_type": "code",
   "execution_count": 96,
   "metadata": {},
   "outputs": [
    {
     "data": {
      "text/plain": [
       "True"
      ]
     },
     "execution_count": 96,
     "metadata": {},
     "output_type": "execute_result"
    }
   ],
   "source": [
    "x = 2\n",
    "condicion1 = x == 2 \n",
    "condicion1"
   ]
  },
  {
   "cell_type": "code",
   "execution_count": 97,
   "metadata": {},
   "outputs": [
    {
     "data": {
      "text/plain": [
       "False"
      ]
     },
     "execution_count": 97,
     "metadata": {},
     "output_type": "execute_result"
    }
   ],
   "source": [
    "condicion2 = x == 3 \n",
    "condicion2"
   ]
  },
  {
   "cell_type": "code",
   "execution_count": 98,
   "metadata": {},
   "outputs": [
    {
     "data": {
      "text/plain": [
       "True"
      ]
     },
     "execution_count": 98,
     "metadata": {},
     "output_type": "execute_result"
    }
   ],
   "source": [
    "condicion3 = x < 3\n",
    "condicion3 "
   ]
  },
  {
   "cell_type": "code",
   "execution_count": 99,
   "metadata": {},
   "outputs": [
    {
     "name": "stdout",
     "output_type": "stream",
     "text": [
      "False\n",
      "False\n",
      "True\n",
      "True\n"
     ]
    }
   ],
   "source": [
    "# Recordemos en breve las tablas lógicas de verdad\n",
    "print(condicion1 and condicion2) # T & F -> F\n",
    "print(condicion2 and condicion1) # F & T -> F\n",
    "print(condicion1 or condicion2) # T | F -> T\n",
    "print(condicion2 or condicion1) # F | T -> T"
   ]
  },
  {
   "cell_type": "markdown",
   "metadata": {},
   "source": [
    "## Control flows\n",
    "Ejecutar código en caso de que se cumplan ciertas condiciones. Acá tenemos 3 comandos básicos: `if`, `else` y `elif`.\n",
    "\n",
    "La sintaxis para los *control flows* es:\n",
    "\n",
    "```\n",
    "if condicion1:\n",
    "    # Si la condición es True se ejecuta este chunk de código\n",
    "    print(\"condicion1 es verdadera\")\n",
    "elif condicion2:\n",
    "    # Si la condición 1 es False y la condición 2 es True, se ejecuta este chunk_de_codigo\n",
    "    print(\"condicion1 es falsa y la condicion2 es verdadera\")\n",
    "else:\n",
    "    # Si la condición 1 y 2 son falsas, se ejecuta este chunk_de_codigo\n",
    "    print(\"condicion1 y la condicion 2 son falsas\")\n",
    "```\n",
    "\n",
    "Python es un lenguaje minimalista por lo que para hacer *control flows* no usa paréntesis ni corchetes. Después de la condición solo se debe incluir el símbolo de dos puntos (`:`) y el código que se desea correr si la condicion es verdadera debe estar debajo e indentado por 4 espacios (un tab)."
   ]
  },
  {
   "cell_type": "code",
   "execution_count": 100,
   "metadata": {},
   "outputs": [
    {
     "name": "stdout",
     "output_type": "stream",
     "text": [
      "Darth Vader\n"
     ]
    }
   ],
   "source": [
    "lado_oscuro = \"Anakin Skywalker\"\n",
    "hijo = \"Luke Skywalker\"\n",
    "\n",
    "if lado_oscuro == \"Anakin Skywalker\": \n",
    "    print(\"Darth Vader\")\n",
    "\n",
    "if lado_oscuro == hijo:\n",
    "    print(\"Luke, no te rindas al odio. Eso lleva al lado oscuro\")"
   ]
  },
  {
   "cell_type": "code",
   "execution_count": 101,
   "metadata": {},
   "outputs": [
    {
     "name": "stdout",
     "output_type": "stream",
     "text": [
      "Anakin Skywalker es el padre de Luke Skywalker\n"
     ]
    }
   ],
   "source": [
    "if lado_oscuro == hijo:\n",
    "    print(\"Luke, no te rindas al odio. Eso lleva al lado oscuro\")\n",
    "else: \n",
    "    print(lado_oscuro + \" es el padre de \" + hijo)"
   ]
  },
  {
   "cell_type": "code",
   "execution_count": 102,
   "metadata": {},
   "outputs": [
    {
     "name": "stdout",
     "output_type": "stream",
     "text": [
      "Yo soy tu padre!\n"
     ]
    }
   ],
   "source": [
    "padre = lado_oscuro\n",
    "\n",
    "if lado_oscuro == hijo:\n",
    "    print(\"Luke, no te rindas al odio. Eso lleva al lado oscuro\")\n",
    "elif padre == \"Anakin Skywalker\":\n",
    "    print(\"Yo soy tu padre!\")\n",
    "else: \n",
    "    print(lado_oscuro + \" es el padre de \" + hijo)"
   ]
  },
  {
   "cell_type": "markdown",
   "metadata": {},
   "source": [
    "## Loops\n",
    "\n",
    "Existen dos tipos de loops.\n",
    "- *for loops* en donde se itera sobre una lista de elementos.\n",
    "- *while loops* en donde se itera hasta que cierta condición se deje de cumplir"
   ]
  },
  {
   "cell_type": "code",
   "execution_count": 103,
   "metadata": {},
   "outputs": [
    {
     "name": "stdout",
     "output_type": "stream",
     "text": [
      "0\n",
      "1\n",
      "2\n",
      "3\n",
      "4\n"
     ]
    }
   ],
   "source": [
    "# Iterar sobre los números del 0 al 4\n",
    "for x in range(0, 5):\n",
    "    print(x)"
   ]
  },
  {
   "cell_type": "code",
   "execution_count": 104,
   "metadata": {},
   "outputs": [
    {
     "name": "stdout",
     "output_type": "stream",
     "text": [
      "3\n",
      "5\n",
      "7\n"
     ]
    }
   ],
   "source": [
    "# Iterar sobre los números del 3 al 7 de dos en dos\n",
    "for x in range(3, 8, 2):\n",
    "    print(x)"
   ]
  },
  {
   "cell_type": "code",
   "execution_count": 105,
   "metadata": {},
   "outputs": [
    {
     "name": "stdout",
     "output_type": "stream",
     "text": [
      "P\n",
      "y\n",
      "t\n",
      "h\n",
      "o\n",
      "n\n"
     ]
    }
   ],
   "source": [
    "# También se puede iterar sobre un string\n",
    "for x in \"Python\":\n",
    "   print(x)"
   ]
  },
  {
   "cell_type": "code",
   "execution_count": 106,
   "metadata": {},
   "outputs": [
    {
     "name": "stdout",
     "output_type": "stream",
     "text": [
      "Harry\n",
      "Hermione\n",
      "Ron\n"
     ]
    }
   ],
   "source": [
    "# Break statement\n",
    "mago = [\"Harry\", \"Hermione\", \"Ron\", \"Voldemort\", \"Dumbledore\"]\n",
    "for x in mago:\n",
    "    if x == \"Voldemort\":\n",
    "        break # Es como un freno de mano\n",
    "    print(x)"
   ]
  },
  {
   "cell_type": "code",
   "execution_count": 107,
   "metadata": {},
   "outputs": [
    {
     "name": "stdout",
     "output_type": "stream",
     "text": [
      "Harry\n",
      "Hermione\n",
      "Ron\n",
      "Dumbledore\n"
     ]
    }
   ],
   "source": [
    "# Continue statement\n",
    "for x in mago:\n",
    "    if x == \"Voldemort\":\n",
    "        continue # Pare la iteración en la que va y continue con la siguiente\n",
    "    print(x)"
   ]
  },
  {
   "cell_type": "code",
   "execution_count": 108,
   "metadata": {
    "tags": []
   },
   "outputs": [
    {
     "name": "stdout",
     "output_type": "stream",
     "text": [
      "1\n",
      "2\n",
      "3\n",
      "4\n"
     ]
    }
   ],
   "source": [
    "x = 1\n",
    "while x < 5: \n",
    "    print(x)\n",
    "    x += 1"
   ]
  },
  {
   "cell_type": "markdown",
   "metadata": {},
   "source": [
    "## Funciones\n",
    "La sintaxis sería:\n",
    "```python\n",
    "def nombre_funcion(parametro1, parametro2, ...):\n",
    "    \"\"\"\n",
    "    Descripción de lo que hace la función\n",
    "\n",
    "    Parameters:\n",
    "        parametro1 (clase_parametro1): Descripción de qué es el input y qué valores puede tomar. \n",
    "        parametro2 (clase_parametro2): Descripción de qué es el input y qué valores puede tomar. \n",
    "\n",
    "    Returns:\n",
    "        output1 (clase_output): Descripción de lo que es el output y qué valores puede tomar.\n",
    "    \"\"\"\n",
    "\n",
    "    # Bloque de código\n",
    "    \n",
    "    return(resultado)\n",
    "```"
   ]
  },
  {
   "cell_type": "code",
   "execution_count": 109,
   "metadata": {},
   "outputs": [],
   "source": [
    "def suma_dos_numeros(a, b):\n",
    "    \"\"\"\n",
    "    Esta función toma dos números y entrega la suma de estos.\n",
    "\n",
    "    Parameters:\n",
    "        a (float): número a sumar.\n",
    "        b (float): número a sumar.\n",
    "\n",
    "    Returns:\n",
    "        resultado (float): suma de a + b\n",
    "    \"\"\"\n",
    "    \n",
    "    resultado = a + b\n",
    "\n",
    "    return resultado"
   ]
  },
  {
   "cell_type": "code",
   "execution_count": 110,
   "metadata": {},
   "outputs": [
    {
     "data": {
      "text/plain": [
       "5"
      ]
     },
     "execution_count": 110,
     "metadata": {},
     "output_type": "execute_result"
    }
   ],
   "source": [
    "suma_dos_numeros(2, 3)"
   ]
  },
  {
   "cell_type": "markdown",
   "metadata": {},
   "source": [
    "### Diccionarios\n",
    "\n",
    "Los diccionarios son usados para hacer variables que mapean e indexan elementos no organizados. En un formato de llaves y valores.\n",
    "\n",
    "```python\n",
    "diccionario = {\n",
    "     key1: value1,\n",
    "     key2: value2,\n",
    "        .\n",
    "        .\n",
    "        .\n",
    "    }\n",
    "```\n",
    "1. Defina \"a\" como un entero y \"b\" como un caracter.\n",
    "2. Defina un dictionario llamado dict_1 donde incluya un número (float), \"a\", \"b\" y lista_1\n",
    "3. Accedamos a los elementos"
   ]
  },
  {
   "cell_type": "code",
   "execution_count": 111,
   "metadata": {},
   "outputs": [],
   "source": [
    "lista_1 = [13,3,7,45]\n",
    "a = 7\n",
    "b = 'Python'\n",
    "diccionario = {\"a\": a, \"b\": b, 'lista': lista_1, \"numero\":3.14}"
   ]
  },
  {
   "cell_type": "code",
   "execution_count": 112,
   "id": "alert-biotechnology",
   "metadata": {},
   "outputs": [
    {
     "data": {
      "text/plain": [
       "{'a': 7, 'b': 'Python', 'lista': [13, 3, 7, 45], 'numero': 3.14}"
      ]
     },
     "execution_count": 112,
     "metadata": {},
     "output_type": "execute_result"
    }
   ],
   "source": [
    "diccionario"
   ]
  },
  {
   "cell_type": "code",
   "execution_count": 113,
   "id": "metric-berlin",
   "metadata": {},
   "outputs": [
    {
     "data": {
      "text/plain": [
       "[13, 3, 7, 45]"
      ]
     },
     "execution_count": 113,
     "metadata": {},
     "output_type": "execute_result"
    }
   ],
   "source": [
    "diccionario['lista']"
   ]
  },
  {
   "cell_type": "code",
   "execution_count": 114,
   "id": "civil-electricity",
   "metadata": {},
   "outputs": [],
   "source": [
    "perro = {'raza': 'Alaska', 'peludo': True, 'edad': 3, 3: 'Si'}"
   ]
  },
  {
   "cell_type": "code",
   "execution_count": 115,
   "id": "future-snowboard",
   "metadata": {},
   "outputs": [
    {
     "name": "stdout",
     "output_type": "stream",
     "text": [
      "Alaska\n",
      "True\n",
      "Si\n"
     ]
    }
   ],
   "source": [
    "print(perro['raza'])\n",
    "print(perro['peludo'])\n",
    "print(perro[3])"
   ]
  },
  {
   "cell_type": "code",
   "execution_count": 116,
   "id": "unusual-comfort",
   "metadata": {},
   "outputs": [
    {
     "name": "stdout",
     "output_type": "stream",
     "text": [
      "{'raza': 'Golden', 'peludo': True, 'edad': 19, 3: 'Si'}\n"
     ]
    }
   ],
   "source": [
    "perro['raza'] = 'Golden'\n",
    "perro['edad'] += 16\n",
    "print(perro)"
   ]
  },
  {
   "cell_type": "markdown",
   "metadata": {},
   "source": [
    "# 2. Programación orientada a objetos.\n",
    " \n",
    "La programación orientada a objetos (OOP) es una forma de estructurar la programación agrupando comportamientos y propiedades en entidades individuales que se llaman **objetos**.\n",
    " \n",
    "Un objeto contiene dos puntos importantes:\n",
    " \n",
    "* Atributos: Conjunto de datos.\n",
    "* Métodos: Comportamientos posibles.\n",
    " \n",
    "__Clases__ vs __Instancias__.\n",
    "    * __Clase__: Este es el molde que define como un objeto debe ser creado. No contiene datos.\n",
    "    * __Instancia__: Este se construye a partir de la clase y contiene datos reales.\n",
    " \n",
    "-> La clase es un formulario y la instancia es este formulario con la información diligenciada."
   ]
  },
  {
   "cell_type": "markdown",
   "metadata": {},
   "source": [
    "La sintaxis sería:\n",
    "```python\n",
    "    class NombreClase:\n",
    "        def __init__():\n",
    "            self.atributo1 = valor\n",
    "\n",
    "        def metodo1(self, parametros):\n",
    "            pass\n",
    "    \n",
    "```"
   ]
  },
  {
   "cell_type": "code",
   "execution_count": 120,
   "metadata": {},
   "outputs": [],
   "source": [
    "class UsuarioPID:\n",
    "    def __init__(self, nombre, apellido, rol): # Parametros que necesito para mi objeto\n",
    "        \n",
    "        # Atributos\n",
    "        self.nombre = nombre\n",
    "        self.apellido = apellido\n",
    "        self.rol = rol\n",
    "\n",
    "    def presentacion(self): # Funcion que se puede hacer\n",
    "        print(f\"Hola, mi nombre es {self.nombre} {self.apellido} y mi rol en la aplicación es de {self.rol}\")"
   ]
  },
  {
   "cell_type": "code",
   "execution_count": 121,
   "metadata": {},
   "outputs": [],
   "source": [
    "usuario1 = UsuarioPID('Jose', 'Ñungo', 'Desarrollador')\n",
    "usuario2 = UsuarioPID('Enrique', 'Gallarado', 'Administrador')"
   ]
  },
  {
   "cell_type": "code",
   "execution_count": 122,
   "metadata": {},
   "outputs": [
    {
     "name": "stdout",
     "output_type": "stream",
     "text": [
      "Hola, mi nombre es Jose Ñungo y mi rol en la aplicación es de Desarrollador\n",
      "Hola, mi nombre es Enrique Gallarado y mi rol en la aplicación es de Administrador\n"
     ]
    }
   ],
   "source": [
    "usuario1.presentacion()\n",
    "usuario2.presentacion()"
   ]
  },
  {
   "cell_type": "markdown",
   "metadata": {},
   "source": [
    "# 3. Paquetes (Introducción Pandas)"
   ]
  },
  {
   "cell_type": "markdown",
   "metadata": {},
   "source": [
    "_Pandas_, este es el paquete más robusto y famoso en Python para la manipulación de bases de datos.\n",
    "\n",
    "En Pandas existen tres tipos de estructuras: \n",
    "\n",
    "- Series: data en un arreglo 1D, etiquetada, homogénea e inmutable de tamaño\n",
    "- **Data Frames**: arreglo 2D, tamaño mutable, columnas heterogéneas, etiquetadas\n",
    "- Panel: arreglo 3D, tamaño mutable."
   ]
  },
  {
   "cell_type": "markdown",
   "metadata": {},
   "source": [
    "<img src=\"https://pandas.pydata.org/docs/_images/01_table_dataframe.svg\" alt=\"Pandas DataFrame\">\n",
    "<img src=\"https://pandas.pydata.org/docs/_images/01_table_series.svg\" alt=\"Pandas DataFrame\">"
   ]
  },
  {
   "cell_type": "code",
   "execution_count": 2,
   "metadata": {},
   "outputs": [],
   "source": [
    "import pandas as pd"
   ]
  },
  {
   "cell_type": "code",
   "execution_count": 3,
   "metadata": {},
   "outputs": [],
   "source": [
    "# Cree 4 listas\n",
    "nombres=['Mateo', 'Sara', 'Juan', 'Carla']\n",
    "sexo=['F', 'M', 'M', None]\n",
    "edad=[24,21,25,30]\n",
    "notas=[4.5, 2, 3.25, 4]"
   ]
  },
  {
   "cell_type": "code",
   "execution_count": 4,
   "metadata": {},
   "outputs": [
    {
     "data": {
      "text/plain": [
       "{'names': ['Mateo', 'Sara', 'Juan', 'Carla'],\n",
       " 'sex': ['F', 'M', 'M', None],\n",
       " 'age': [24, 21, 25, 30],\n",
       " 'grades': [4.5, 2, 3.25, 4]}"
      ]
     },
     "execution_count": 4,
     "metadata": {},
     "output_type": "execute_result"
    }
   ],
   "source": [
    "diccionario={'names':nombres, 'sex':sexo, 'age':edad, 'grades':notas} # Contruya un diccionario\n",
    "diccionario"
   ]
  },
  {
   "cell_type": "code",
   "execution_count": 5,
   "metadata": {},
   "outputs": [],
   "source": [
    "data=pd.DataFrame(diccionario) # Conviértalo en data frame"
   ]
  },
  {
   "cell_type": "code",
   "execution_count": 6,
   "metadata": {},
   "outputs": [
    {
     "data": {
      "text/html": [
       "<div>\n",
       "<style scoped>\n",
       "    .dataframe tbody tr th:only-of-type {\n",
       "        vertical-align: middle;\n",
       "    }\n",
       "\n",
       "    .dataframe tbody tr th {\n",
       "        vertical-align: top;\n",
       "    }\n",
       "\n",
       "    .dataframe thead th {\n",
       "        text-align: right;\n",
       "    }\n",
       "</style>\n",
       "<table border=\"1\" class=\"dataframe\">\n",
       "  <thead>\n",
       "    <tr style=\"text-align: right;\">\n",
       "      <th></th>\n",
       "      <th>names</th>\n",
       "      <th>sex</th>\n",
       "      <th>age</th>\n",
       "      <th>grades</th>\n",
       "    </tr>\n",
       "  </thead>\n",
       "  <tbody>\n",
       "    <tr>\n",
       "      <th>0</th>\n",
       "      <td>Mateo</td>\n",
       "      <td>F</td>\n",
       "      <td>24</td>\n",
       "      <td>4.50</td>\n",
       "    </tr>\n",
       "    <tr>\n",
       "      <th>1</th>\n",
       "      <td>Sara</td>\n",
       "      <td>M</td>\n",
       "      <td>21</td>\n",
       "      <td>2.00</td>\n",
       "    </tr>\n",
       "    <tr>\n",
       "      <th>2</th>\n",
       "      <td>Juan</td>\n",
       "      <td>M</td>\n",
       "      <td>25</td>\n",
       "      <td>3.25</td>\n",
       "    </tr>\n",
       "    <tr>\n",
       "      <th>3</th>\n",
       "      <td>Carla</td>\n",
       "      <td>None</td>\n",
       "      <td>30</td>\n",
       "      <td>4.00</td>\n",
       "    </tr>\n",
       "  </tbody>\n",
       "</table>\n",
       "</div>"
      ],
      "text/plain": [
       "   names   sex  age  grades\n",
       "0  Mateo     F   24    4.50\n",
       "1   Sara     M   21    2.00\n",
       "2   Juan     M   25    3.25\n",
       "3  Carla  None   30    4.00"
      ]
     },
     "execution_count": 6,
     "metadata": {},
     "output_type": "execute_result"
    }
   ],
   "source": [
    "data"
   ]
  },
  {
   "cell_type": "markdown",
   "metadata": {},
   "source": [
    "## Cargar archivos como DataFrame"
   ]
  },
  {
   "cell_type": "code",
   "execution_count": 7,
   "metadata": {},
   "outputs": [
    {
     "data": {
      "text/html": [
       "<div>\n",
       "<style scoped>\n",
       "    .dataframe tbody tr th:only-of-type {\n",
       "        vertical-align: middle;\n",
       "    }\n",
       "\n",
       "    .dataframe tbody tr th {\n",
       "        vertical-align: top;\n",
       "    }\n",
       "\n",
       "    .dataframe thead th {\n",
       "        text-align: right;\n",
       "    }\n",
       "</style>\n",
       "<table border=\"1\" class=\"dataframe\">\n",
       "  <thead>\n",
       "    <tr style=\"text-align: right;\">\n",
       "      <th></th>\n",
       "      <th>NUM_IDE</th>\n",
       "      <th>FECHA_NACI</th>\n",
       "      <th>SEXO</th>\n",
       "      <th>MUNI_2010</th>\n",
       "      <th>MUNI_2011</th>\n",
       "      <th>DPTO_2010</th>\n",
       "      <th>DPTO_2011</th>\n",
       "      <th>EPS_2010</th>\n",
       "      <th>EPS_2011</th>\n",
       "      <th>DIAS_COMP_2010</th>\n",
       "      <th>...</th>\n",
       "      <th>DIAG_1_W_2011</th>\n",
       "      <th>DIAG_1_X_2011</th>\n",
       "      <th>DIAG_1_Y_2011</th>\n",
       "      <th>DIAG_1_Z_2011</th>\n",
       "      <th>GASTO_AN_2010</th>\n",
       "      <th>GASTO_AN_2011</th>\n",
       "      <th>SEXO_F</th>\n",
       "      <th>SEXO_M</th>\n",
       "      <th>EDAD_2011</th>\n",
       "      <th>EDAD_2010</th>\n",
       "    </tr>\n",
       "  </thead>\n",
       "  <tbody>\n",
       "    <tr>\n",
       "      <th>0</th>\n",
       "      <td>00000194-D058-45CA-8FFA-104DC5EEFFFB</td>\n",
       "      <td>1990-02-22</td>\n",
       "      <td>F</td>\n",
       "      <td>1</td>\n",
       "      <td>1</td>\n",
       "      <td>11</td>\n",
       "      <td>11</td>\n",
       "      <td>EPS008</td>\n",
       "      <td>EPS008</td>\n",
       "      <td>150</td>\n",
       "      <td>...</td>\n",
       "      <td>False</td>\n",
       "      <td>False</td>\n",
       "      <td>False</td>\n",
       "      <td>True</td>\n",
       "      <td>6.889200e+04</td>\n",
       "      <td>6.104900e+04</td>\n",
       "      <td>1</td>\n",
       "      <td>0</td>\n",
       "      <td>20</td>\n",
       "      <td>19</td>\n",
       "    </tr>\n",
       "    <tr>\n",
       "      <th>1</th>\n",
       "      <td>0000044A-6B61-4EBF-BF51-CCFE020AF4C7</td>\n",
       "      <td>1935-07-15</td>\n",
       "      <td>M</td>\n",
       "      <td>1</td>\n",
       "      <td>1</td>\n",
       "      <td>8</td>\n",
       "      <td>8</td>\n",
       "      <td>EPS037</td>\n",
       "      <td>EPS037</td>\n",
       "      <td>360</td>\n",
       "      <td>...</td>\n",
       "      <td>False</td>\n",
       "      <td>False</td>\n",
       "      <td>False</td>\n",
       "      <td>True</td>\n",
       "      <td>1.780939e+06</td>\n",
       "      <td>1.273880e+06</td>\n",
       "      <td>0</td>\n",
       "      <td>1</td>\n",
       "      <td>75</td>\n",
       "      <td>74</td>\n",
       "    </tr>\n",
       "    <tr>\n",
       "      <th>2</th>\n",
       "      <td>00000495-E581-4053-A710-6275911EF9AB</td>\n",
       "      <td>1964-05-23</td>\n",
       "      <td>M</td>\n",
       "      <td>1</td>\n",
       "      <td>1</td>\n",
       "      <td>54</td>\n",
       "      <td>54</td>\n",
       "      <td>EPS037</td>\n",
       "      <td>EPS037</td>\n",
       "      <td>360</td>\n",
       "      <td>...</td>\n",
       "      <td>False</td>\n",
       "      <td>False</td>\n",
       "      <td>False</td>\n",
       "      <td>False</td>\n",
       "      <td>3.080080e+05</td>\n",
       "      <td>0.000000e+00</td>\n",
       "      <td>0</td>\n",
       "      <td>1</td>\n",
       "      <td>46</td>\n",
       "      <td>45</td>\n",
       "    </tr>\n",
       "    <tr>\n",
       "      <th>3</th>\n",
       "      <td>000007D9-9087-4F36-9B26-25D205C46EE1</td>\n",
       "      <td>1974-10-06</td>\n",
       "      <td>M</td>\n",
       "      <td>430</td>\n",
       "      <td>430</td>\n",
       "      <td>25</td>\n",
       "      <td>25</td>\n",
       "      <td>EPS013</td>\n",
       "      <td>EPS013</td>\n",
       "      <td>191</td>\n",
       "      <td>...</td>\n",
       "      <td>False</td>\n",
       "      <td>False</td>\n",
       "      <td>False</td>\n",
       "      <td>True</td>\n",
       "      <td>1.552693e+05</td>\n",
       "      <td>5.746624e+05</td>\n",
       "      <td>0</td>\n",
       "      <td>1</td>\n",
       "      <td>36</td>\n",
       "      <td>35</td>\n",
       "    </tr>\n",
       "    <tr>\n",
       "      <th>4</th>\n",
       "      <td>00000CF1-F4ED-4330-8739-C82FCF1BCAC7</td>\n",
       "      <td>2000-12-28</td>\n",
       "      <td>M</td>\n",
       "      <td>172</td>\n",
       "      <td>88</td>\n",
       "      <td>5</td>\n",
       "      <td>5</td>\n",
       "      <td>EPS013</td>\n",
       "      <td>EPS013</td>\n",
       "      <td>180</td>\n",
       "      <td>...</td>\n",
       "      <td>False</td>\n",
       "      <td>False</td>\n",
       "      <td>False</td>\n",
       "      <td>False</td>\n",
       "      <td>3.324060e+05</td>\n",
       "      <td>1.753640e+05</td>\n",
       "      <td>0</td>\n",
       "      <td>1</td>\n",
       "      <td>10</td>\n",
       "      <td>9</td>\n",
       "    </tr>\n",
       "    <tr>\n",
       "      <th>...</th>\n",
       "      <td>...</td>\n",
       "      <td>...</td>\n",
       "      <td>...</td>\n",
       "      <td>...</td>\n",
       "      <td>...</td>\n",
       "      <td>...</td>\n",
       "      <td>...</td>\n",
       "      <td>...</td>\n",
       "      <td>...</td>\n",
       "      <td>...</td>\n",
       "      <td>...</td>\n",
       "      <td>...</td>\n",
       "      <td>...</td>\n",
       "      <td>...</td>\n",
       "      <td>...</td>\n",
       "      <td>...</td>\n",
       "      <td>...</td>\n",
       "      <td>...</td>\n",
       "      <td>...</td>\n",
       "      <td>...</td>\n",
       "      <td>...</td>\n",
       "    </tr>\n",
       "    <tr>\n",
       "      <th>99994</th>\n",
       "      <td>072C7FF2-BA0B-464B-B8D1-DEBF282191EE</td>\n",
       "      <td>1966-10-03</td>\n",
       "      <td>F</td>\n",
       "      <td>1</td>\n",
       "      <td>1</td>\n",
       "      <td>11</td>\n",
       "      <td>11</td>\n",
       "      <td>EPS005</td>\n",
       "      <td>EPS005</td>\n",
       "      <td>302</td>\n",
       "      <td>...</td>\n",
       "      <td>False</td>\n",
       "      <td>False</td>\n",
       "      <td>False</td>\n",
       "      <td>False</td>\n",
       "      <td>8.401947e+04</td>\n",
       "      <td>0.000000e+00</td>\n",
       "      <td>1</td>\n",
       "      <td>0</td>\n",
       "      <td>44</td>\n",
       "      <td>43</td>\n",
       "    </tr>\n",
       "    <tr>\n",
       "      <th>99995</th>\n",
       "      <td>072C8201-E5B9-4287-8C18-829FD324630C</td>\n",
       "      <td>1986-07-22</td>\n",
       "      <td>M</td>\n",
       "      <td>1</td>\n",
       "      <td>1</td>\n",
       "      <td>76</td>\n",
       "      <td>76</td>\n",
       "      <td>EPS012</td>\n",
       "      <td>EPS012</td>\n",
       "      <td>360</td>\n",
       "      <td>...</td>\n",
       "      <td>False</td>\n",
       "      <td>False</td>\n",
       "      <td>False</td>\n",
       "      <td>True</td>\n",
       "      <td>2.146100e+04</td>\n",
       "      <td>9.483300e+04</td>\n",
       "      <td>0</td>\n",
       "      <td>1</td>\n",
       "      <td>24</td>\n",
       "      <td>23</td>\n",
       "    </tr>\n",
       "    <tr>\n",
       "      <th>99996</th>\n",
       "      <td>072C8598-B8DA-430B-B338-87CD7A6D177B</td>\n",
       "      <td>1981-11-22</td>\n",
       "      <td>F</td>\n",
       "      <td>1</td>\n",
       "      <td>1</td>\n",
       "      <td>11</td>\n",
       "      <td>11</td>\n",
       "      <td>EPS002</td>\n",
       "      <td>EPS002</td>\n",
       "      <td>360</td>\n",
       "      <td>...</td>\n",
       "      <td>False</td>\n",
       "      <td>False</td>\n",
       "      <td>False</td>\n",
       "      <td>True</td>\n",
       "      <td>9.910720e+05</td>\n",
       "      <td>1.220963e+05</td>\n",
       "      <td>1</td>\n",
       "      <td>0</td>\n",
       "      <td>29</td>\n",
       "      <td>28</td>\n",
       "    </tr>\n",
       "    <tr>\n",
       "      <th>99997</th>\n",
       "      <td>072C8AB4-47EB-441E-98A9-FD47F3315A81</td>\n",
       "      <td>1935-06-28</td>\n",
       "      <td>F</td>\n",
       "      <td>1</td>\n",
       "      <td>1</td>\n",
       "      <td>76</td>\n",
       "      <td>76</td>\n",
       "      <td>EPS037</td>\n",
       "      <td>EPS037</td>\n",
       "      <td>360</td>\n",
       "      <td>...</td>\n",
       "      <td>False</td>\n",
       "      <td>False</td>\n",
       "      <td>False</td>\n",
       "      <td>True</td>\n",
       "      <td>1.296260e+05</td>\n",
       "      <td>3.332620e+05</td>\n",
       "      <td>1</td>\n",
       "      <td>0</td>\n",
       "      <td>75</td>\n",
       "      <td>74</td>\n",
       "    </tr>\n",
       "    <tr>\n",
       "      <th>99998</th>\n",
       "      <td>072C8FDB-2E8D-407B-AD2B-748DF699C576</td>\n",
       "      <td>1979-12-09</td>\n",
       "      <td>F</td>\n",
       "      <td>1</td>\n",
       "      <td>1</td>\n",
       "      <td>11</td>\n",
       "      <td>23</td>\n",
       "      <td>EPS017</td>\n",
       "      <td>EPS005</td>\n",
       "      <td>360</td>\n",
       "      <td>...</td>\n",
       "      <td>False</td>\n",
       "      <td>False</td>\n",
       "      <td>False</td>\n",
       "      <td>False</td>\n",
       "      <td>2.205371e+06</td>\n",
       "      <td>4.714167e+05</td>\n",
       "      <td>1</td>\n",
       "      <td>0</td>\n",
       "      <td>31</td>\n",
       "      <td>30</td>\n",
       "    </tr>\n",
       "  </tbody>\n",
       "</table>\n",
       "<p>99999 rows × 71 columns</p>\n",
       "</div>"
      ],
      "text/plain": [
       "                                    NUM_IDE  FECHA_NACI SEXO  MUNI_2010  \\\n",
       "0      00000194-D058-45CA-8FFA-104DC5EEFFFB  1990-02-22    F          1   \n",
       "1      0000044A-6B61-4EBF-BF51-CCFE020AF4C7  1935-07-15    M          1   \n",
       "2      00000495-E581-4053-A710-6275911EF9AB  1964-05-23    M          1   \n",
       "3      000007D9-9087-4F36-9B26-25D205C46EE1  1974-10-06    M        430   \n",
       "4      00000CF1-F4ED-4330-8739-C82FCF1BCAC7  2000-12-28    M        172   \n",
       "...                                     ...         ...  ...        ...   \n",
       "99994  072C7FF2-BA0B-464B-B8D1-DEBF282191EE  1966-10-03    F          1   \n",
       "99995  072C8201-E5B9-4287-8C18-829FD324630C  1986-07-22    M          1   \n",
       "99996  072C8598-B8DA-430B-B338-87CD7A6D177B  1981-11-22    F          1   \n",
       "99997  072C8AB4-47EB-441E-98A9-FD47F3315A81  1935-06-28    F          1   \n",
       "99998  072C8FDB-2E8D-407B-AD2B-748DF699C576  1979-12-09    F          1   \n",
       "\n",
       "       MUNI_2011  DPTO_2010  DPTO_2011 EPS_2010 EPS_2011  DIAS_COMP_2010  ...  \\\n",
       "0              1         11         11   EPS008   EPS008             150  ...   \n",
       "1              1          8          8   EPS037   EPS037             360  ...   \n",
       "2              1         54         54   EPS037   EPS037             360  ...   \n",
       "3            430         25         25   EPS013   EPS013             191  ...   \n",
       "4             88          5          5   EPS013   EPS013             180  ...   \n",
       "...          ...        ...        ...      ...      ...             ...  ...   \n",
       "99994          1         11         11   EPS005   EPS005             302  ...   \n",
       "99995          1         76         76   EPS012   EPS012             360  ...   \n",
       "99996          1         11         11   EPS002   EPS002             360  ...   \n",
       "99997          1         76         76   EPS037   EPS037             360  ...   \n",
       "99998          1         11         23   EPS017   EPS005             360  ...   \n",
       "\n",
       "       DIAG_1_W_2011  DIAG_1_X_2011  DIAG_1_Y_2011  DIAG_1_Z_2011  \\\n",
       "0              False          False          False           True   \n",
       "1              False          False          False           True   \n",
       "2              False          False          False          False   \n",
       "3              False          False          False           True   \n",
       "4              False          False          False          False   \n",
       "...              ...            ...            ...            ...   \n",
       "99994          False          False          False          False   \n",
       "99995          False          False          False           True   \n",
       "99996          False          False          False           True   \n",
       "99997          False          False          False           True   \n",
       "99998          False          False          False          False   \n",
       "\n",
       "       GASTO_AN_2010  GASTO_AN_2011  SEXO_F  SEXO_M  EDAD_2011  EDAD_2010  \n",
       "0       6.889200e+04   6.104900e+04       1       0         20         19  \n",
       "1       1.780939e+06   1.273880e+06       0       1         75         74  \n",
       "2       3.080080e+05   0.000000e+00       0       1         46         45  \n",
       "3       1.552693e+05   5.746624e+05       0       1         36         35  \n",
       "4       3.324060e+05   1.753640e+05       0       1         10          9  \n",
       "...              ...            ...     ...     ...        ...        ...  \n",
       "99994   8.401947e+04   0.000000e+00       1       0         44         43  \n",
       "99995   2.146100e+04   9.483300e+04       0       1         24         23  \n",
       "99996   9.910720e+05   1.220963e+05       1       0         29         28  \n",
       "99997   1.296260e+05   3.332620e+05       1       0         75         74  \n",
       "99998   2.205371e+06   4.714167e+05       1       0         31         30  \n",
       "\n",
       "[99999 rows x 71 columns]"
      ]
     },
     "execution_count": 7,
     "metadata": {},
     "output_type": "execute_result"
    }
   ],
   "source": [
    "salud = pd.read_csv('datos/suficiencia.csv',\n",
    "                    na_values=':')\n",
    "salud"
   ]
  },
  {
   "cell_type": "code",
   "execution_count": 8,
   "metadata": {},
   "outputs": [
    {
     "data": {
      "text/html": [
       "<div>\n",
       "<style scoped>\n",
       "    .dataframe tbody tr th:only-of-type {\n",
       "        vertical-align: middle;\n",
       "    }\n",
       "\n",
       "    .dataframe tbody tr th {\n",
       "        vertical-align: top;\n",
       "    }\n",
       "\n",
       "    .dataframe thead th {\n",
       "        text-align: right;\n",
       "    }\n",
       "</style>\n",
       "<table border=\"1\" class=\"dataframe\">\n",
       "  <thead>\n",
       "    <tr style=\"text-align: right;\">\n",
       "      <th></th>\n",
       "      <th>NUM_IDE</th>\n",
       "      <th>FECHA_NACI</th>\n",
       "      <th>SEXO</th>\n",
       "      <th>MUNI_2010</th>\n",
       "      <th>MUNI_2011</th>\n",
       "      <th>DPTO_2010</th>\n",
       "      <th>DPTO_2011</th>\n",
       "      <th>EPS_2010</th>\n",
       "      <th>EPS_2011</th>\n",
       "      <th>DIAS_COMP_2010</th>\n",
       "      <th>...</th>\n",
       "      <th>DIAG_1_W_2011</th>\n",
       "      <th>DIAG_1_X_2011</th>\n",
       "      <th>DIAG_1_Y_2011</th>\n",
       "      <th>DIAG_1_Z_2011</th>\n",
       "      <th>GASTO_AN_2010</th>\n",
       "      <th>GASTO_AN_2011</th>\n",
       "      <th>SEXO_F</th>\n",
       "      <th>SEXO_M</th>\n",
       "      <th>EDAD_2011</th>\n",
       "      <th>EDAD_2010</th>\n",
       "    </tr>\n",
       "  </thead>\n",
       "  <tbody>\n",
       "    <tr>\n",
       "      <th>0</th>\n",
       "      <td>00000194-D058-45CA-8FFA-104DC5EEFFFB</td>\n",
       "      <td>1990-02-22</td>\n",
       "      <td>F</td>\n",
       "      <td>1</td>\n",
       "      <td>1</td>\n",
       "      <td>11</td>\n",
       "      <td>11</td>\n",
       "      <td>EPS008</td>\n",
       "      <td>EPS008</td>\n",
       "      <td>150</td>\n",
       "      <td>...</td>\n",
       "      <td>False</td>\n",
       "      <td>False</td>\n",
       "      <td>False</td>\n",
       "      <td>True</td>\n",
       "      <td>6.889200e+04</td>\n",
       "      <td>6.104900e+04</td>\n",
       "      <td>1</td>\n",
       "      <td>0</td>\n",
       "      <td>20</td>\n",
       "      <td>19</td>\n",
       "    </tr>\n",
       "    <tr>\n",
       "      <th>1</th>\n",
       "      <td>0000044A-6B61-4EBF-BF51-CCFE020AF4C7</td>\n",
       "      <td>1935-07-15</td>\n",
       "      <td>M</td>\n",
       "      <td>1</td>\n",
       "      <td>1</td>\n",
       "      <td>8</td>\n",
       "      <td>8</td>\n",
       "      <td>EPS037</td>\n",
       "      <td>EPS037</td>\n",
       "      <td>360</td>\n",
       "      <td>...</td>\n",
       "      <td>False</td>\n",
       "      <td>False</td>\n",
       "      <td>False</td>\n",
       "      <td>True</td>\n",
       "      <td>1.780939e+06</td>\n",
       "      <td>1.273880e+06</td>\n",
       "      <td>0</td>\n",
       "      <td>1</td>\n",
       "      <td>75</td>\n",
       "      <td>74</td>\n",
       "    </tr>\n",
       "    <tr>\n",
       "      <th>2</th>\n",
       "      <td>00000495-E581-4053-A710-6275911EF9AB</td>\n",
       "      <td>1964-05-23</td>\n",
       "      <td>M</td>\n",
       "      <td>1</td>\n",
       "      <td>1</td>\n",
       "      <td>54</td>\n",
       "      <td>54</td>\n",
       "      <td>EPS037</td>\n",
       "      <td>EPS037</td>\n",
       "      <td>360</td>\n",
       "      <td>...</td>\n",
       "      <td>False</td>\n",
       "      <td>False</td>\n",
       "      <td>False</td>\n",
       "      <td>False</td>\n",
       "      <td>3.080080e+05</td>\n",
       "      <td>0.000000e+00</td>\n",
       "      <td>0</td>\n",
       "      <td>1</td>\n",
       "      <td>46</td>\n",
       "      <td>45</td>\n",
       "    </tr>\n",
       "    <tr>\n",
       "      <th>3</th>\n",
       "      <td>000007D9-9087-4F36-9B26-25D205C46EE1</td>\n",
       "      <td>1974-10-06</td>\n",
       "      <td>M</td>\n",
       "      <td>430</td>\n",
       "      <td>430</td>\n",
       "      <td>25</td>\n",
       "      <td>25</td>\n",
       "      <td>EPS013</td>\n",
       "      <td>EPS013</td>\n",
       "      <td>191</td>\n",
       "      <td>...</td>\n",
       "      <td>False</td>\n",
       "      <td>False</td>\n",
       "      <td>False</td>\n",
       "      <td>True</td>\n",
       "      <td>1.552693e+05</td>\n",
       "      <td>5.746624e+05</td>\n",
       "      <td>0</td>\n",
       "      <td>1</td>\n",
       "      <td>36</td>\n",
       "      <td>35</td>\n",
       "    </tr>\n",
       "    <tr>\n",
       "      <th>4</th>\n",
       "      <td>00000CF1-F4ED-4330-8739-C82FCF1BCAC7</td>\n",
       "      <td>2000-12-28</td>\n",
       "      <td>M</td>\n",
       "      <td>172</td>\n",
       "      <td>88</td>\n",
       "      <td>5</td>\n",
       "      <td>5</td>\n",
       "      <td>EPS013</td>\n",
       "      <td>EPS013</td>\n",
       "      <td>180</td>\n",
       "      <td>...</td>\n",
       "      <td>False</td>\n",
       "      <td>False</td>\n",
       "      <td>False</td>\n",
       "      <td>False</td>\n",
       "      <td>3.324060e+05</td>\n",
       "      <td>1.753640e+05</td>\n",
       "      <td>0</td>\n",
       "      <td>1</td>\n",
       "      <td>10</td>\n",
       "      <td>9</td>\n",
       "    </tr>\n",
       "  </tbody>\n",
       "</table>\n",
       "<p>5 rows × 71 columns</p>\n",
       "</div>"
      ],
      "text/plain": [
       "                                NUM_IDE  FECHA_NACI SEXO  MUNI_2010  \\\n",
       "0  00000194-D058-45CA-8FFA-104DC5EEFFFB  1990-02-22    F          1   \n",
       "1  0000044A-6B61-4EBF-BF51-CCFE020AF4C7  1935-07-15    M          1   \n",
       "2  00000495-E581-4053-A710-6275911EF9AB  1964-05-23    M          1   \n",
       "3  000007D9-9087-4F36-9B26-25D205C46EE1  1974-10-06    M        430   \n",
       "4  00000CF1-F4ED-4330-8739-C82FCF1BCAC7  2000-12-28    M        172   \n",
       "\n",
       "   MUNI_2011  DPTO_2010  DPTO_2011 EPS_2010 EPS_2011  DIAS_COMP_2010  ...  \\\n",
       "0          1         11         11   EPS008   EPS008             150  ...   \n",
       "1          1          8          8   EPS037   EPS037             360  ...   \n",
       "2          1         54         54   EPS037   EPS037             360  ...   \n",
       "3        430         25         25   EPS013   EPS013             191  ...   \n",
       "4         88          5          5   EPS013   EPS013             180  ...   \n",
       "\n",
       "   DIAG_1_W_2011  DIAG_1_X_2011  DIAG_1_Y_2011  DIAG_1_Z_2011  GASTO_AN_2010  \\\n",
       "0          False          False          False           True   6.889200e+04   \n",
       "1          False          False          False           True   1.780939e+06   \n",
       "2          False          False          False          False   3.080080e+05   \n",
       "3          False          False          False           True   1.552693e+05   \n",
       "4          False          False          False          False   3.324060e+05   \n",
       "\n",
       "   GASTO_AN_2011  SEXO_F  SEXO_M  EDAD_2011  EDAD_2010  \n",
       "0   6.104900e+04       1       0         20         19  \n",
       "1   1.273880e+06       0       1         75         74  \n",
       "2   0.000000e+00       0       1         46         45  \n",
       "3   5.746624e+05       0       1         36         35  \n",
       "4   1.753640e+05       0       1         10          9  \n",
       "\n",
       "[5 rows x 71 columns]"
      ]
     },
     "execution_count": 8,
     "metadata": {},
     "output_type": "execute_result"
    }
   ],
   "source": [
    "salud.head()"
   ]
  },
  {
   "cell_type": "code",
   "execution_count": 9,
   "metadata": {},
   "outputs": [
    {
     "data": {
      "text/html": [
       "<div>\n",
       "<style scoped>\n",
       "    .dataframe tbody tr th:only-of-type {\n",
       "        vertical-align: middle;\n",
       "    }\n",
       "\n",
       "    .dataframe tbody tr th {\n",
       "        vertical-align: top;\n",
       "    }\n",
       "\n",
       "    .dataframe thead th {\n",
       "        text-align: right;\n",
       "    }\n",
       "</style>\n",
       "<table border=\"1\" class=\"dataframe\">\n",
       "  <thead>\n",
       "    <tr style=\"text-align: right;\">\n",
       "      <th></th>\n",
       "      <th>NUM_IDE</th>\n",
       "      <th>FECHA_NACI</th>\n",
       "      <th>SEXO</th>\n",
       "      <th>MUNI_2010</th>\n",
       "      <th>MUNI_2011</th>\n",
       "      <th>DPTO_2010</th>\n",
       "      <th>DPTO_2011</th>\n",
       "      <th>EPS_2010</th>\n",
       "      <th>EPS_2011</th>\n",
       "      <th>DIAS_COMP_2010</th>\n",
       "      <th>...</th>\n",
       "      <th>DIAG_1_W_2011</th>\n",
       "      <th>DIAG_1_X_2011</th>\n",
       "      <th>DIAG_1_Y_2011</th>\n",
       "      <th>DIAG_1_Z_2011</th>\n",
       "      <th>GASTO_AN_2010</th>\n",
       "      <th>GASTO_AN_2011</th>\n",
       "      <th>SEXO_F</th>\n",
       "      <th>SEXO_M</th>\n",
       "      <th>EDAD_2011</th>\n",
       "      <th>EDAD_2010</th>\n",
       "    </tr>\n",
       "  </thead>\n",
       "  <tbody>\n",
       "    <tr>\n",
       "      <th>99994</th>\n",
       "      <td>072C7FF2-BA0B-464B-B8D1-DEBF282191EE</td>\n",
       "      <td>1966-10-03</td>\n",
       "      <td>F</td>\n",
       "      <td>1</td>\n",
       "      <td>1</td>\n",
       "      <td>11</td>\n",
       "      <td>11</td>\n",
       "      <td>EPS005</td>\n",
       "      <td>EPS005</td>\n",
       "      <td>302</td>\n",
       "      <td>...</td>\n",
       "      <td>False</td>\n",
       "      <td>False</td>\n",
       "      <td>False</td>\n",
       "      <td>False</td>\n",
       "      <td>8.401947e+04</td>\n",
       "      <td>0.000000</td>\n",
       "      <td>1</td>\n",
       "      <td>0</td>\n",
       "      <td>44</td>\n",
       "      <td>43</td>\n",
       "    </tr>\n",
       "    <tr>\n",
       "      <th>99995</th>\n",
       "      <td>072C8201-E5B9-4287-8C18-829FD324630C</td>\n",
       "      <td>1986-07-22</td>\n",
       "      <td>M</td>\n",
       "      <td>1</td>\n",
       "      <td>1</td>\n",
       "      <td>76</td>\n",
       "      <td>76</td>\n",
       "      <td>EPS012</td>\n",
       "      <td>EPS012</td>\n",
       "      <td>360</td>\n",
       "      <td>...</td>\n",
       "      <td>False</td>\n",
       "      <td>False</td>\n",
       "      <td>False</td>\n",
       "      <td>True</td>\n",
       "      <td>2.146100e+04</td>\n",
       "      <td>94833.000000</td>\n",
       "      <td>0</td>\n",
       "      <td>1</td>\n",
       "      <td>24</td>\n",
       "      <td>23</td>\n",
       "    </tr>\n",
       "    <tr>\n",
       "      <th>99996</th>\n",
       "      <td>072C8598-B8DA-430B-B338-87CD7A6D177B</td>\n",
       "      <td>1981-11-22</td>\n",
       "      <td>F</td>\n",
       "      <td>1</td>\n",
       "      <td>1</td>\n",
       "      <td>11</td>\n",
       "      <td>11</td>\n",
       "      <td>EPS002</td>\n",
       "      <td>EPS002</td>\n",
       "      <td>360</td>\n",
       "      <td>...</td>\n",
       "      <td>False</td>\n",
       "      <td>False</td>\n",
       "      <td>False</td>\n",
       "      <td>True</td>\n",
       "      <td>9.910720e+05</td>\n",
       "      <td>122096.347826</td>\n",
       "      <td>1</td>\n",
       "      <td>0</td>\n",
       "      <td>29</td>\n",
       "      <td>28</td>\n",
       "    </tr>\n",
       "    <tr>\n",
       "      <th>99997</th>\n",
       "      <td>072C8AB4-47EB-441E-98A9-FD47F3315A81</td>\n",
       "      <td>1935-06-28</td>\n",
       "      <td>F</td>\n",
       "      <td>1</td>\n",
       "      <td>1</td>\n",
       "      <td>76</td>\n",
       "      <td>76</td>\n",
       "      <td>EPS037</td>\n",
       "      <td>EPS037</td>\n",
       "      <td>360</td>\n",
       "      <td>...</td>\n",
       "      <td>False</td>\n",
       "      <td>False</td>\n",
       "      <td>False</td>\n",
       "      <td>True</td>\n",
       "      <td>1.296260e+05</td>\n",
       "      <td>333262.000000</td>\n",
       "      <td>1</td>\n",
       "      <td>0</td>\n",
       "      <td>75</td>\n",
       "      <td>74</td>\n",
       "    </tr>\n",
       "    <tr>\n",
       "      <th>99998</th>\n",
       "      <td>072C8FDB-2E8D-407B-AD2B-748DF699C576</td>\n",
       "      <td>1979-12-09</td>\n",
       "      <td>F</td>\n",
       "      <td>1</td>\n",
       "      <td>1</td>\n",
       "      <td>11</td>\n",
       "      <td>23</td>\n",
       "      <td>EPS017</td>\n",
       "      <td>EPS005</td>\n",
       "      <td>360</td>\n",
       "      <td>...</td>\n",
       "      <td>False</td>\n",
       "      <td>False</td>\n",
       "      <td>False</td>\n",
       "      <td>False</td>\n",
       "      <td>2.205371e+06</td>\n",
       "      <td>471416.727273</td>\n",
       "      <td>1</td>\n",
       "      <td>0</td>\n",
       "      <td>31</td>\n",
       "      <td>30</td>\n",
       "    </tr>\n",
       "  </tbody>\n",
       "</table>\n",
       "<p>5 rows × 71 columns</p>\n",
       "</div>"
      ],
      "text/plain": [
       "                                    NUM_IDE  FECHA_NACI SEXO  MUNI_2010  \\\n",
       "99994  072C7FF2-BA0B-464B-B8D1-DEBF282191EE  1966-10-03    F          1   \n",
       "99995  072C8201-E5B9-4287-8C18-829FD324630C  1986-07-22    M          1   \n",
       "99996  072C8598-B8DA-430B-B338-87CD7A6D177B  1981-11-22    F          1   \n",
       "99997  072C8AB4-47EB-441E-98A9-FD47F3315A81  1935-06-28    F          1   \n",
       "99998  072C8FDB-2E8D-407B-AD2B-748DF699C576  1979-12-09    F          1   \n",
       "\n",
       "       MUNI_2011  DPTO_2010  DPTO_2011 EPS_2010 EPS_2011  DIAS_COMP_2010  ...  \\\n",
       "99994          1         11         11   EPS005   EPS005             302  ...   \n",
       "99995          1         76         76   EPS012   EPS012             360  ...   \n",
       "99996          1         11         11   EPS002   EPS002             360  ...   \n",
       "99997          1         76         76   EPS037   EPS037             360  ...   \n",
       "99998          1         11         23   EPS017   EPS005             360  ...   \n",
       "\n",
       "       DIAG_1_W_2011  DIAG_1_X_2011  DIAG_1_Y_2011  DIAG_1_Z_2011  \\\n",
       "99994          False          False          False          False   \n",
       "99995          False          False          False           True   \n",
       "99996          False          False          False           True   \n",
       "99997          False          False          False           True   \n",
       "99998          False          False          False          False   \n",
       "\n",
       "       GASTO_AN_2010  GASTO_AN_2011  SEXO_F  SEXO_M  EDAD_2011  EDAD_2010  \n",
       "99994   8.401947e+04       0.000000       1       0         44         43  \n",
       "99995   2.146100e+04   94833.000000       0       1         24         23  \n",
       "99996   9.910720e+05  122096.347826       1       0         29         28  \n",
       "99997   1.296260e+05  333262.000000       1       0         75         74  \n",
       "99998   2.205371e+06  471416.727273       1       0         31         30  \n",
       "\n",
       "[5 rows x 71 columns]"
      ]
     },
     "execution_count": 9,
     "metadata": {},
     "output_type": "execute_result"
    }
   ],
   "source": [
    "salud.tail()"
   ]
  },
  {
   "cell_type": "code",
   "execution_count": 10,
   "metadata": {},
   "outputs": [
    {
     "data": {
      "text/plain": [
       "RangeIndex(start=0, stop=99999, step=1)"
      ]
     },
     "execution_count": 10,
     "metadata": {},
     "output_type": "execute_result"
    }
   ],
   "source": [
    "salud.index"
   ]
  },
  {
   "cell_type": "code",
   "execution_count": 11,
   "metadata": {},
   "outputs": [
    {
     "data": {
      "text/plain": [
       "Index(['NUM_IDE', 'FECHA_NACI', 'SEXO', 'MUNI_2010', 'MUNI_2011', 'DPTO_2010',\n",
       "       'DPTO_2011', 'EPS_2010', 'EPS_2011', 'DIAS_COMP_2010', 'DIAS_COMP_2011',\n",
       "       'CONTEO_2010', 'VALOR_TOT_2010', 'DIAG_1_A_2010', 'DIAG_1_B_2010',\n",
       "       'DIAG_1_C_2010', 'DIAG_1_D_2010', 'DIAG_1_E_2010', 'DIAG_1_F_2010',\n",
       "       'DIAG_1_G_2010', 'DIAG_1_H_2010', 'DIAG_1_I_2010', 'DIAG_1_J_2010',\n",
       "       'DIAG_1_K_2010', 'DIAG_1_L_2010', 'DIAG_1_M_2010', 'DIAG_1_N_2010',\n",
       "       'DIAG_1_O_2010', 'DIAG_1_P_2010', 'DIAG_1_Q_2010', 'DIAG_1_R_2010',\n",
       "       'DIAG_1_S_2010', 'DIAG_1_T_2010', 'DIAG_1_V_2010', 'DIAG_1_W_2010',\n",
       "       'DIAG_1_X_2010', 'DIAG_1_Y_2010', 'DIAG_1_Z_2010', 'CONTEO_2011',\n",
       "       'VALOR_TOT_2011', 'DIAG_1_A_2011', 'DIAG_1_B_2011', 'DIAG_1_C_2011',\n",
       "       'DIAG_1_D_2011', 'DIAG_1_E_2011', 'DIAG_1_F_2011', 'DIAG_1_G_2011',\n",
       "       'DIAG_1_H_2011', 'DIAG_1_I_2011', 'DIAG_1_J_2011', 'DIAG_1_K_2011',\n",
       "       'DIAG_1_L_2011', 'DIAG_1_M_2011', 'DIAG_1_N_2011', 'DIAG_1_O_2011',\n",
       "       'DIAG_1_P_2011', 'DIAG_1_Q_2011', 'DIAG_1_R_2011', 'DIAG_1_S_2011',\n",
       "       'DIAG_1_T_2011', 'DIAG_1_V_2011', 'DIAG_1_W_2011', 'DIAG_1_X_2011',\n",
       "       'DIAG_1_Y_2011', 'DIAG_1_Z_2011', 'GASTO_AN_2010', 'GASTO_AN_2011',\n",
       "       'SEXO_F', 'SEXO_M', 'EDAD_2011', 'EDAD_2010'],\n",
       "      dtype='object')"
      ]
     },
     "execution_count": 11,
     "metadata": {},
     "output_type": "execute_result"
    }
   ],
   "source": [
    "salud.columns"
   ]
  },
  {
   "cell_type": "code",
   "execution_count": 12,
   "metadata": {},
   "outputs": [
    {
     "data": {
      "text/html": [
       "<div>\n",
       "<style scoped>\n",
       "    .dataframe tbody tr th:only-of-type {\n",
       "        vertical-align: middle;\n",
       "    }\n",
       "\n",
       "    .dataframe tbody tr th {\n",
       "        vertical-align: top;\n",
       "    }\n",
       "\n",
       "    .dataframe thead th {\n",
       "        text-align: right;\n",
       "    }\n",
       "</style>\n",
       "<table border=\"1\" class=\"dataframe\">\n",
       "  <thead>\n",
       "    <tr style=\"text-align: right;\">\n",
       "      <th></th>\n",
       "      <th>MUNI_2010</th>\n",
       "      <th>MUNI_2011</th>\n",
       "      <th>DPTO_2010</th>\n",
       "      <th>DPTO_2011</th>\n",
       "      <th>DIAS_COMP_2010</th>\n",
       "      <th>DIAS_COMP_2011</th>\n",
       "      <th>CONTEO_2010</th>\n",
       "      <th>VALOR_TOT_2010</th>\n",
       "      <th>CONTEO_2011</th>\n",
       "      <th>VALOR_TOT_2011</th>\n",
       "      <th>GASTO_AN_2010</th>\n",
       "      <th>GASTO_AN_2011</th>\n",
       "      <th>SEXO_F</th>\n",
       "      <th>SEXO_M</th>\n",
       "      <th>EDAD_2011</th>\n",
       "      <th>EDAD_2010</th>\n",
       "    </tr>\n",
       "  </thead>\n",
       "  <tbody>\n",
       "    <tr>\n",
       "      <th>count</th>\n",
       "      <td>99999.000000</td>\n",
       "      <td>99999.000000</td>\n",
       "      <td>99999.000000</td>\n",
       "      <td>99999.000000</td>\n",
       "      <td>99999.000000</td>\n",
       "      <td>99999.000000</td>\n",
       "      <td>99999.000000</td>\n",
       "      <td>9.999900e+04</td>\n",
       "      <td>99999.000000</td>\n",
       "      <td>9.999900e+04</td>\n",
       "      <td>9.999900e+04</td>\n",
       "      <td>9.999900e+04</td>\n",
       "      <td>99999.000000</td>\n",
       "      <td>99999.000000</td>\n",
       "      <td>99999.000000</td>\n",
       "      <td>99999.000000</td>\n",
       "    </tr>\n",
       "    <tr>\n",
       "      <th>mean</th>\n",
       "      <td>122.748427</td>\n",
       "      <td>122.884419</td>\n",
       "      <td>29.793118</td>\n",
       "      <td>29.800088</td>\n",
       "      <td>296.634696</td>\n",
       "      <td>301.751728</td>\n",
       "      <td>22.188202</td>\n",
       "      <td>6.316394e+05</td>\n",
       "      <td>21.652707</td>\n",
       "      <td>6.259137e+05</td>\n",
       "      <td>1.297454e+06</td>\n",
       "      <td>1.076146e+06</td>\n",
       "      <td>0.555456</td>\n",
       "      <td>0.444544</td>\n",
       "      <td>33.027860</td>\n",
       "      <td>32.027860</td>\n",
       "    </tr>\n",
       "    <tr>\n",
       "      <th>std</th>\n",
       "      <td>233.518623</td>\n",
       "      <td>233.670754</td>\n",
       "      <td>27.245030</td>\n",
       "      <td>27.257084</td>\n",
       "      <td>100.092868</td>\n",
       "      <td>99.438537</td>\n",
       "      <td>35.712278</td>\n",
       "      <td>3.508997e+06</td>\n",
       "      <td>34.352156</td>\n",
       "      <td>4.383343e+06</td>\n",
       "      <td>2.895310e+07</td>\n",
       "      <td>1.252743e+07</td>\n",
       "      <td>0.496918</td>\n",
       "      <td>0.496918</td>\n",
       "      <td>20.782819</td>\n",
       "      <td>20.782819</td>\n",
       "    </tr>\n",
       "    <tr>\n",
       "      <th>min</th>\n",
       "      <td>1.000000</td>\n",
       "      <td>1.000000</td>\n",
       "      <td>5.000000</td>\n",
       "      <td>5.000000</td>\n",
       "      <td>1.000000</td>\n",
       "      <td>1.000000</td>\n",
       "      <td>1.000000</td>\n",
       "      <td>0.000000e+00</td>\n",
       "      <td>0.000000</td>\n",
       "      <td>0.000000e+00</td>\n",
       "      <td>0.000000e+00</td>\n",
       "      <td>0.000000e+00</td>\n",
       "      <td>0.000000</td>\n",
       "      <td>0.000000</td>\n",
       "      <td>0.000000</td>\n",
       "      <td>-1.000000</td>\n",
       "    </tr>\n",
       "    <tr>\n",
       "      <th>25%</th>\n",
       "      <td>1.000000</td>\n",
       "      <td>1.000000</td>\n",
       "      <td>11.000000</td>\n",
       "      <td>11.000000</td>\n",
       "      <td>267.000000</td>\n",
       "      <td>285.000000</td>\n",
       "      <td>5.000000</td>\n",
       "      <td>5.483200e+04</td>\n",
       "      <td>3.000000</td>\n",
       "      <td>2.773550e+04</td>\n",
       "      <td>7.454754e+04</td>\n",
       "      <td>3.404715e+04</td>\n",
       "      <td>0.000000</td>\n",
       "      <td>0.000000</td>\n",
       "      <td>16.000000</td>\n",
       "      <td>15.000000</td>\n",
       "    </tr>\n",
       "    <tr>\n",
       "      <th>50%</th>\n",
       "      <td>1.000000</td>\n",
       "      <td>1.000000</td>\n",
       "      <td>11.000000</td>\n",
       "      <td>11.000000</td>\n",
       "      <td>360.000000</td>\n",
       "      <td>360.000000</td>\n",
       "      <td>12.000000</td>\n",
       "      <td>1.488040e+05</td>\n",
       "      <td>11.000000</td>\n",
       "      <td>1.282690e+05</td>\n",
       "      <td>2.009510e+05</td>\n",
       "      <td>1.583210e+05</td>\n",
       "      <td>1.000000</td>\n",
       "      <td>0.000000</td>\n",
       "      <td>31.000000</td>\n",
       "      <td>30.000000</td>\n",
       "    </tr>\n",
       "    <tr>\n",
       "      <th>75%</th>\n",
       "      <td>129.000000</td>\n",
       "      <td>129.000000</td>\n",
       "      <td>54.000000</td>\n",
       "      <td>54.000000</td>\n",
       "      <td>360.000000</td>\n",
       "      <td>360.000000</td>\n",
       "      <td>26.000000</td>\n",
       "      <td>4.089275e+05</td>\n",
       "      <td>27.000000</td>\n",
       "      <td>3.860950e+05</td>\n",
       "      <td>5.687785e+05</td>\n",
       "      <td>4.867013e+05</td>\n",
       "      <td>1.000000</td>\n",
       "      <td>1.000000</td>\n",
       "      <td>47.000000</td>\n",
       "      <td>46.000000</td>\n",
       "    </tr>\n",
       "    <tr>\n",
       "      <th>max</th>\n",
       "      <td>980.000000</td>\n",
       "      <td>980.000000</td>\n",
       "      <td>99.000000</td>\n",
       "      <td>99.000000</td>\n",
       "      <td>390.000000</td>\n",
       "      <td>390.000000</td>\n",
       "      <td>3008.000000</td>\n",
       "      <td>6.107444e+08</td>\n",
       "      <td>1703.000000</td>\n",
       "      <td>8.352813e+08</td>\n",
       "      <td>7.521754e+09</td>\n",
       "      <td>1.961825e+09</td>\n",
       "      <td>1.000000</td>\n",
       "      <td>1.000000</td>\n",
       "      <td>110.000000</td>\n",
       "      <td>109.000000</td>\n",
       "    </tr>\n",
       "  </tbody>\n",
       "</table>\n",
       "</div>"
      ],
      "text/plain": [
       "          MUNI_2010     MUNI_2011     DPTO_2010     DPTO_2011  DIAS_COMP_2010  \\\n",
       "count  99999.000000  99999.000000  99999.000000  99999.000000    99999.000000   \n",
       "mean     122.748427    122.884419     29.793118     29.800088      296.634696   \n",
       "std      233.518623    233.670754     27.245030     27.257084      100.092868   \n",
       "min        1.000000      1.000000      5.000000      5.000000        1.000000   \n",
       "25%        1.000000      1.000000     11.000000     11.000000      267.000000   \n",
       "50%        1.000000      1.000000     11.000000     11.000000      360.000000   \n",
       "75%      129.000000    129.000000     54.000000     54.000000      360.000000   \n",
       "max      980.000000    980.000000     99.000000     99.000000      390.000000   \n",
       "\n",
       "       DIAS_COMP_2011   CONTEO_2010  VALOR_TOT_2010   CONTEO_2011  \\\n",
       "count    99999.000000  99999.000000    9.999900e+04  99999.000000   \n",
       "mean       301.751728     22.188202    6.316394e+05     21.652707   \n",
       "std         99.438537     35.712278    3.508997e+06     34.352156   \n",
       "min          1.000000      1.000000    0.000000e+00      0.000000   \n",
       "25%        285.000000      5.000000    5.483200e+04      3.000000   \n",
       "50%        360.000000     12.000000    1.488040e+05     11.000000   \n",
       "75%        360.000000     26.000000    4.089275e+05     27.000000   \n",
       "max        390.000000   3008.000000    6.107444e+08   1703.000000   \n",
       "\n",
       "       VALOR_TOT_2011  GASTO_AN_2010  GASTO_AN_2011        SEXO_F  \\\n",
       "count    9.999900e+04   9.999900e+04   9.999900e+04  99999.000000   \n",
       "mean     6.259137e+05   1.297454e+06   1.076146e+06      0.555456   \n",
       "std      4.383343e+06   2.895310e+07   1.252743e+07      0.496918   \n",
       "min      0.000000e+00   0.000000e+00   0.000000e+00      0.000000   \n",
       "25%      2.773550e+04   7.454754e+04   3.404715e+04      0.000000   \n",
       "50%      1.282690e+05   2.009510e+05   1.583210e+05      1.000000   \n",
       "75%      3.860950e+05   5.687785e+05   4.867013e+05      1.000000   \n",
       "max      8.352813e+08   7.521754e+09   1.961825e+09      1.000000   \n",
       "\n",
       "             SEXO_M     EDAD_2011     EDAD_2010  \n",
       "count  99999.000000  99999.000000  99999.000000  \n",
       "mean       0.444544     33.027860     32.027860  \n",
       "std        0.496918     20.782819     20.782819  \n",
       "min        0.000000      0.000000     -1.000000  \n",
       "25%        0.000000     16.000000     15.000000  \n",
       "50%        0.000000     31.000000     30.000000  \n",
       "75%        1.000000     47.000000     46.000000  \n",
       "max        1.000000    110.000000    109.000000  "
      ]
     },
     "execution_count": 12,
     "metadata": {},
     "output_type": "execute_result"
    }
   ],
   "source": [
    "salud.describe()"
   ]
  },
  {
   "cell_type": "markdown",
   "metadata": {},
   "source": [
    "### Filtrar columnas\n",
    "<img src=\"https://pandas.pydata.org/docs/_images/03_subset_columns.svg\" title = \"Columnas\">"
   ]
  },
  {
   "cell_type": "code",
   "execution_count": null,
   "metadata": {},
   "outputs": [],
   "source": [
    "data[['CODE_CATEGORY', 'RECOVERY_METHOD']]"
   ]
  },
  {
   "cell_type": "code",
   "execution_count": 13,
   "metadata": {},
   "outputs": [
    {
     "data": {
      "text/html": [
       "<div>\n",
       "<style scoped>\n",
       "    .dataframe tbody tr th:only-of-type {\n",
       "        vertical-align: middle;\n",
       "    }\n",
       "\n",
       "    .dataframe tbody tr th {\n",
       "        vertical-align: top;\n",
       "    }\n",
       "\n",
       "    .dataframe thead th {\n",
       "        text-align: right;\n",
       "    }\n",
       "</style>\n",
       "<table border=\"1\" class=\"dataframe\">\n",
       "  <thead>\n",
       "    <tr style=\"text-align: right;\">\n",
       "      <th></th>\n",
       "      <th>SEXO_F</th>\n",
       "      <th>DIAS_COMP_2010</th>\n",
       "    </tr>\n",
       "  </thead>\n",
       "  <tbody>\n",
       "    <tr>\n",
       "      <th>0</th>\n",
       "      <td>1</td>\n",
       "      <td>150</td>\n",
       "    </tr>\n",
       "    <tr>\n",
       "      <th>1</th>\n",
       "      <td>0</td>\n",
       "      <td>360</td>\n",
       "    </tr>\n",
       "    <tr>\n",
       "      <th>2</th>\n",
       "      <td>0</td>\n",
       "      <td>360</td>\n",
       "    </tr>\n",
       "    <tr>\n",
       "      <th>3</th>\n",
       "      <td>0</td>\n",
       "      <td>191</td>\n",
       "    </tr>\n",
       "    <tr>\n",
       "      <th>4</th>\n",
       "      <td>0</td>\n",
       "      <td>180</td>\n",
       "    </tr>\n",
       "    <tr>\n",
       "      <th>...</th>\n",
       "      <td>...</td>\n",
       "      <td>...</td>\n",
       "    </tr>\n",
       "    <tr>\n",
       "      <th>99994</th>\n",
       "      <td>1</td>\n",
       "      <td>302</td>\n",
       "    </tr>\n",
       "    <tr>\n",
       "      <th>99995</th>\n",
       "      <td>0</td>\n",
       "      <td>360</td>\n",
       "    </tr>\n",
       "    <tr>\n",
       "      <th>99996</th>\n",
       "      <td>1</td>\n",
       "      <td>360</td>\n",
       "    </tr>\n",
       "    <tr>\n",
       "      <th>99997</th>\n",
       "      <td>1</td>\n",
       "      <td>360</td>\n",
       "    </tr>\n",
       "    <tr>\n",
       "      <th>99998</th>\n",
       "      <td>1</td>\n",
       "      <td>360</td>\n",
       "    </tr>\n",
       "  </tbody>\n",
       "</table>\n",
       "<p>99999 rows × 2 columns</p>\n",
       "</div>"
      ],
      "text/plain": [
       "       SEXO_F  DIAS_COMP_2010\n",
       "0           1             150\n",
       "1           0             360\n",
       "2           0             360\n",
       "3           0             191\n",
       "4           0             180\n",
       "...       ...             ...\n",
       "99994       1             302\n",
       "99995       0             360\n",
       "99996       1             360\n",
       "99997       1             360\n",
       "99998       1             360\n",
       "\n",
       "[99999 rows x 2 columns]"
      ]
     },
     "execution_count": 13,
     "metadata": {},
     "output_type": "execute_result"
    }
   ],
   "source": [
    "salud[['SEXO_F','DIAS_COMP_2010']]"
   ]
  },
  {
   "cell_type": "code",
   "execution_count": 14,
   "metadata": {},
   "outputs": [
    {
     "data": {
      "text/html": [
       "<div>\n",
       "<style scoped>\n",
       "    .dataframe tbody tr th:only-of-type {\n",
       "        vertical-align: middle;\n",
       "    }\n",
       "\n",
       "    .dataframe tbody tr th {\n",
       "        vertical-align: top;\n",
       "    }\n",
       "\n",
       "    .dataframe thead th {\n",
       "        text-align: right;\n",
       "    }\n",
       "</style>\n",
       "<table border=\"1\" class=\"dataframe\">\n",
       "  <thead>\n",
       "    <tr style=\"text-align: right;\">\n",
       "      <th></th>\n",
       "      <th>NUM_IDE</th>\n",
       "      <th>FECHA_NACI</th>\n",
       "      <th>SEXO</th>\n",
       "      <th>MUNI_2010</th>\n",
       "      <th>MUNI_2011</th>\n",
       "      <th>DPTO_2010</th>\n",
       "      <th>DPTO_2011</th>\n",
       "      <th>EPS_2010</th>\n",
       "      <th>EPS_2011</th>\n",
       "      <th>DIAS_COMP_2010</th>\n",
       "      <th>...</th>\n",
       "      <th>DIAG_1_W_2011</th>\n",
       "      <th>DIAG_1_X_2011</th>\n",
       "      <th>DIAG_1_Y_2011</th>\n",
       "      <th>DIAG_1_Z_2011</th>\n",
       "      <th>GASTO_AN_2010</th>\n",
       "      <th>GASTO_AN_2011</th>\n",
       "      <th>SEXO_F</th>\n",
       "      <th>SEXO_M</th>\n",
       "      <th>EDAD_2011</th>\n",
       "      <th>EDAD_2010</th>\n",
       "    </tr>\n",
       "  </thead>\n",
       "  <tbody>\n",
       "    <tr>\n",
       "      <th>10</th>\n",
       "      <td>0000255A-5780-4A7F-89C3-F081534D97C1</td>\n",
       "      <td>1946-08-30</td>\n",
       "      <td>F</td>\n",
       "      <td>568</td>\n",
       "      <td>568</td>\n",
       "      <td>86</td>\n",
       "      <td>86</td>\n",
       "      <td>EPS013</td>\n",
       "      <td>EPS013</td>\n",
       "      <td>360</td>\n",
       "      <td>...</td>\n",
       "      <td>False</td>\n",
       "      <td>False</td>\n",
       "      <td>False</td>\n",
       "      <td>True</td>\n",
       "      <td>1.523976e+06</td>\n",
       "      <td>2194636.0</td>\n",
       "      <td>1</td>\n",
       "      <td>0</td>\n",
       "      <td>64</td>\n",
       "      <td>63</td>\n",
       "    </tr>\n",
       "    <tr>\n",
       "      <th>11</th>\n",
       "      <td>00002FDE-CAC7-4375-AF56-1B252173B61B</td>\n",
       "      <td>1972-10-30</td>\n",
       "      <td>M</td>\n",
       "      <td>1</td>\n",
       "      <td>1</td>\n",
       "      <td>70</td>\n",
       "      <td>70</td>\n",
       "      <td>EPS002</td>\n",
       "      <td>EPS002</td>\n",
       "      <td>319</td>\n",
       "      <td>...</td>\n",
       "      <td>False</td>\n",
       "      <td>False</td>\n",
       "      <td>False</td>\n",
       "      <td>False</td>\n",
       "      <td>1.970859e+04</td>\n",
       "      <td>0.0</td>\n",
       "      <td>0</td>\n",
       "      <td>1</td>\n",
       "      <td>38</td>\n",
       "      <td>37</td>\n",
       "    </tr>\n",
       "    <tr>\n",
       "      <th>12</th>\n",
       "      <td>00003284-E9F5-4C45-84F9-CCA37FB2C189</td>\n",
       "      <td>2007-01-18</td>\n",
       "      <td>F</td>\n",
       "      <td>296</td>\n",
       "      <td>296</td>\n",
       "      <td>8</td>\n",
       "      <td>8</td>\n",
       "      <td>EPS013</td>\n",
       "      <td>EPS013</td>\n",
       "      <td>360</td>\n",
       "      <td>...</td>\n",
       "      <td>False</td>\n",
       "      <td>False</td>\n",
       "      <td>False</td>\n",
       "      <td>True</td>\n",
       "      <td>1.547060e+05</td>\n",
       "      <td>69919.0</td>\n",
       "      <td>1</td>\n",
       "      <td>0</td>\n",
       "      <td>3</td>\n",
       "      <td>2</td>\n",
       "    </tr>\n",
       "  </tbody>\n",
       "</table>\n",
       "<p>3 rows × 71 columns</p>\n",
       "</div>"
      ],
      "text/plain": [
       "                                 NUM_IDE  FECHA_NACI SEXO  MUNI_2010  \\\n",
       "10  0000255A-5780-4A7F-89C3-F081534D97C1  1946-08-30    F        568   \n",
       "11  00002FDE-CAC7-4375-AF56-1B252173B61B  1972-10-30    M          1   \n",
       "12  00003284-E9F5-4C45-84F9-CCA37FB2C189  2007-01-18    F        296   \n",
       "\n",
       "    MUNI_2011  DPTO_2010  DPTO_2011 EPS_2010 EPS_2011  DIAS_COMP_2010  ...  \\\n",
       "10        568         86         86   EPS013   EPS013             360  ...   \n",
       "11          1         70         70   EPS002   EPS002             319  ...   \n",
       "12        296          8          8   EPS013   EPS013             360  ...   \n",
       "\n",
       "    DIAG_1_W_2011  DIAG_1_X_2011  DIAG_1_Y_2011  DIAG_1_Z_2011  GASTO_AN_2010  \\\n",
       "10          False          False          False           True   1.523976e+06   \n",
       "11          False          False          False          False   1.970859e+04   \n",
       "12          False          False          False           True   1.547060e+05   \n",
       "\n",
       "    GASTO_AN_2011  SEXO_F  SEXO_M  EDAD_2011  EDAD_2010  \n",
       "10      2194636.0       1       0         64         63  \n",
       "11            0.0       0       1         38         37  \n",
       "12        69919.0       1       0          3          2  \n",
       "\n",
       "[3 rows x 71 columns]"
      ]
     },
     "execution_count": 14,
     "metadata": {},
     "output_type": "execute_result"
    }
   ],
   "source": [
    "salud[10:13]"
   ]
  },
  {
   "cell_type": "code",
   "execution_count": 15,
   "metadata": {},
   "outputs": [
    {
     "data": {
      "text/html": [
       "<div>\n",
       "<style scoped>\n",
       "    .dataframe tbody tr th:only-of-type {\n",
       "        vertical-align: middle;\n",
       "    }\n",
       "\n",
       "    .dataframe tbody tr th {\n",
       "        vertical-align: top;\n",
       "    }\n",
       "\n",
       "    .dataframe thead th {\n",
       "        text-align: right;\n",
       "    }\n",
       "</style>\n",
       "<table border=\"1\" class=\"dataframe\">\n",
       "  <thead>\n",
       "    <tr style=\"text-align: right;\">\n",
       "      <th></th>\n",
       "      <th>NUM_IDE</th>\n",
       "      <th>FECHA_NACI</th>\n",
       "      <th>SEXO</th>\n",
       "      <th>MUNI_2010</th>\n",
       "      <th>MUNI_2011</th>\n",
       "      <th>DPTO_2010</th>\n",
       "      <th>DPTO_2011</th>\n",
       "      <th>EPS_2010</th>\n",
       "      <th>EPS_2011</th>\n",
       "      <th>DIAS_COMP_2010</th>\n",
       "      <th>...</th>\n",
       "      <th>DIAG_1_W_2011</th>\n",
       "      <th>DIAG_1_X_2011</th>\n",
       "      <th>DIAG_1_Y_2011</th>\n",
       "      <th>DIAG_1_Z_2011</th>\n",
       "      <th>GASTO_AN_2010</th>\n",
       "      <th>GASTO_AN_2011</th>\n",
       "      <th>SEXO_F</th>\n",
       "      <th>SEXO_M</th>\n",
       "      <th>EDAD_2011</th>\n",
       "      <th>EDAD_2010</th>\n",
       "    </tr>\n",
       "  </thead>\n",
       "  <tbody>\n",
       "    <tr>\n",
       "      <th>99994</th>\n",
       "      <td>072C7FF2-BA0B-464B-B8D1-DEBF282191EE</td>\n",
       "      <td>1966-10-03</td>\n",
       "      <td>F</td>\n",
       "      <td>1</td>\n",
       "      <td>1</td>\n",
       "      <td>11</td>\n",
       "      <td>11</td>\n",
       "      <td>EPS005</td>\n",
       "      <td>EPS005</td>\n",
       "      <td>302</td>\n",
       "      <td>...</td>\n",
       "      <td>False</td>\n",
       "      <td>False</td>\n",
       "      <td>False</td>\n",
       "      <td>False</td>\n",
       "      <td>8.401947e+04</td>\n",
       "      <td>0.000000</td>\n",
       "      <td>1</td>\n",
       "      <td>0</td>\n",
       "      <td>44</td>\n",
       "      <td>43</td>\n",
       "    </tr>\n",
       "    <tr>\n",
       "      <th>99995</th>\n",
       "      <td>072C8201-E5B9-4287-8C18-829FD324630C</td>\n",
       "      <td>1986-07-22</td>\n",
       "      <td>M</td>\n",
       "      <td>1</td>\n",
       "      <td>1</td>\n",
       "      <td>76</td>\n",
       "      <td>76</td>\n",
       "      <td>EPS012</td>\n",
       "      <td>EPS012</td>\n",
       "      <td>360</td>\n",
       "      <td>...</td>\n",
       "      <td>False</td>\n",
       "      <td>False</td>\n",
       "      <td>False</td>\n",
       "      <td>True</td>\n",
       "      <td>2.146100e+04</td>\n",
       "      <td>94833.000000</td>\n",
       "      <td>0</td>\n",
       "      <td>1</td>\n",
       "      <td>24</td>\n",
       "      <td>23</td>\n",
       "    </tr>\n",
       "    <tr>\n",
       "      <th>99996</th>\n",
       "      <td>072C8598-B8DA-430B-B338-87CD7A6D177B</td>\n",
       "      <td>1981-11-22</td>\n",
       "      <td>F</td>\n",
       "      <td>1</td>\n",
       "      <td>1</td>\n",
       "      <td>11</td>\n",
       "      <td>11</td>\n",
       "      <td>EPS002</td>\n",
       "      <td>EPS002</td>\n",
       "      <td>360</td>\n",
       "      <td>...</td>\n",
       "      <td>False</td>\n",
       "      <td>False</td>\n",
       "      <td>False</td>\n",
       "      <td>True</td>\n",
       "      <td>9.910720e+05</td>\n",
       "      <td>122096.347826</td>\n",
       "      <td>1</td>\n",
       "      <td>0</td>\n",
       "      <td>29</td>\n",
       "      <td>28</td>\n",
       "    </tr>\n",
       "    <tr>\n",
       "      <th>99997</th>\n",
       "      <td>072C8AB4-47EB-441E-98A9-FD47F3315A81</td>\n",
       "      <td>1935-06-28</td>\n",
       "      <td>F</td>\n",
       "      <td>1</td>\n",
       "      <td>1</td>\n",
       "      <td>76</td>\n",
       "      <td>76</td>\n",
       "      <td>EPS037</td>\n",
       "      <td>EPS037</td>\n",
       "      <td>360</td>\n",
       "      <td>...</td>\n",
       "      <td>False</td>\n",
       "      <td>False</td>\n",
       "      <td>False</td>\n",
       "      <td>True</td>\n",
       "      <td>1.296260e+05</td>\n",
       "      <td>333262.000000</td>\n",
       "      <td>1</td>\n",
       "      <td>0</td>\n",
       "      <td>75</td>\n",
       "      <td>74</td>\n",
       "    </tr>\n",
       "    <tr>\n",
       "      <th>99998</th>\n",
       "      <td>072C8FDB-2E8D-407B-AD2B-748DF699C576</td>\n",
       "      <td>1979-12-09</td>\n",
       "      <td>F</td>\n",
       "      <td>1</td>\n",
       "      <td>1</td>\n",
       "      <td>11</td>\n",
       "      <td>23</td>\n",
       "      <td>EPS017</td>\n",
       "      <td>EPS005</td>\n",
       "      <td>360</td>\n",
       "      <td>...</td>\n",
       "      <td>False</td>\n",
       "      <td>False</td>\n",
       "      <td>False</td>\n",
       "      <td>False</td>\n",
       "      <td>2.205371e+06</td>\n",
       "      <td>471416.727273</td>\n",
       "      <td>1</td>\n",
       "      <td>0</td>\n",
       "      <td>31</td>\n",
       "      <td>30</td>\n",
       "    </tr>\n",
       "  </tbody>\n",
       "</table>\n",
       "<p>5 rows × 71 columns</p>\n",
       "</div>"
      ],
      "text/plain": [
       "                                    NUM_IDE  FECHA_NACI SEXO  MUNI_2010  \\\n",
       "99994  072C7FF2-BA0B-464B-B8D1-DEBF282191EE  1966-10-03    F          1   \n",
       "99995  072C8201-E5B9-4287-8C18-829FD324630C  1986-07-22    M          1   \n",
       "99996  072C8598-B8DA-430B-B338-87CD7A6D177B  1981-11-22    F          1   \n",
       "99997  072C8AB4-47EB-441E-98A9-FD47F3315A81  1935-06-28    F          1   \n",
       "99998  072C8FDB-2E8D-407B-AD2B-748DF699C576  1979-12-09    F          1   \n",
       "\n",
       "       MUNI_2011  DPTO_2010  DPTO_2011 EPS_2010 EPS_2011  DIAS_COMP_2010  ...  \\\n",
       "99994          1         11         11   EPS005   EPS005             302  ...   \n",
       "99995          1         76         76   EPS012   EPS012             360  ...   \n",
       "99996          1         11         11   EPS002   EPS002             360  ...   \n",
       "99997          1         76         76   EPS037   EPS037             360  ...   \n",
       "99998          1         11         23   EPS017   EPS005             360  ...   \n",
       "\n",
       "       DIAG_1_W_2011  DIAG_1_X_2011  DIAG_1_Y_2011  DIAG_1_Z_2011  \\\n",
       "99994          False          False          False          False   \n",
       "99995          False          False          False           True   \n",
       "99996          False          False          False           True   \n",
       "99997          False          False          False           True   \n",
       "99998          False          False          False          False   \n",
       "\n",
       "       GASTO_AN_2010  GASTO_AN_2011  SEXO_F  SEXO_M  EDAD_2011  EDAD_2010  \n",
       "99994   8.401947e+04       0.000000       1       0         44         43  \n",
       "99995   2.146100e+04   94833.000000       0       1         24         23  \n",
       "99996   9.910720e+05  122096.347826       1       0         29         28  \n",
       "99997   1.296260e+05  333262.000000       1       0         75         74  \n",
       "99998   2.205371e+06  471416.727273       1       0         31         30  \n",
       "\n",
       "[5 rows x 71 columns]"
      ]
     },
     "execution_count": 15,
     "metadata": {},
     "output_type": "execute_result"
    }
   ],
   "source": [
    "salud[salud['DPTO_2011']>6.5].tail()"
   ]
  },
  {
   "cell_type": "code",
   "execution_count": 16,
   "metadata": {},
   "outputs": [
    {
     "data": {
      "text/html": [
       "<div>\n",
       "<style scoped>\n",
       "    .dataframe tbody tr th:only-of-type {\n",
       "        vertical-align: middle;\n",
       "    }\n",
       "\n",
       "    .dataframe tbody tr th {\n",
       "        vertical-align: top;\n",
       "    }\n",
       "\n",
       "    .dataframe thead th {\n",
       "        text-align: right;\n",
       "    }\n",
       "</style>\n",
       "<table border=\"1\" class=\"dataframe\">\n",
       "  <thead>\n",
       "    <tr style=\"text-align: right;\">\n",
       "      <th></th>\n",
       "      <th>NUM_IDE</th>\n",
       "      <th>FECHA_NACI</th>\n",
       "      <th>SEXO</th>\n",
       "      <th>MUNI_2010</th>\n",
       "      <th>MUNI_2011</th>\n",
       "      <th>DPTO_2010</th>\n",
       "      <th>DPTO_2011</th>\n",
       "      <th>EPS_2010</th>\n",
       "      <th>EPS_2011</th>\n",
       "      <th>DIAS_COMP_2010</th>\n",
       "      <th>...</th>\n",
       "      <th>DIAG_1_W_2011</th>\n",
       "      <th>DIAG_1_X_2011</th>\n",
       "      <th>DIAG_1_Y_2011</th>\n",
       "      <th>DIAG_1_Z_2011</th>\n",
       "      <th>GASTO_AN_2010</th>\n",
       "      <th>GASTO_AN_2011</th>\n",
       "      <th>SEXO_F</th>\n",
       "      <th>SEXO_M</th>\n",
       "      <th>EDAD_2011</th>\n",
       "      <th>EDAD_2010</th>\n",
       "    </tr>\n",
       "  </thead>\n",
       "  <tbody>\n",
       "  </tbody>\n",
       "</table>\n",
       "<p>0 rows × 71 columns</p>\n",
       "</div>"
      ],
      "text/plain": [
       "Empty DataFrame\n",
       "Columns: [NUM_IDE, FECHA_NACI, SEXO, MUNI_2010, MUNI_2011, DPTO_2010, DPTO_2011, EPS_2010, EPS_2011, DIAS_COMP_2010, DIAS_COMP_2011, CONTEO_2010, VALOR_TOT_2010, DIAG_1_A_2010, DIAG_1_B_2010, DIAG_1_C_2010, DIAG_1_D_2010, DIAG_1_E_2010, DIAG_1_F_2010, DIAG_1_G_2010, DIAG_1_H_2010, DIAG_1_I_2010, DIAG_1_J_2010, DIAG_1_K_2010, DIAG_1_L_2010, DIAG_1_M_2010, DIAG_1_N_2010, DIAG_1_O_2010, DIAG_1_P_2010, DIAG_1_Q_2010, DIAG_1_R_2010, DIAG_1_S_2010, DIAG_1_T_2010, DIAG_1_V_2010, DIAG_1_W_2010, DIAG_1_X_2010, DIAG_1_Y_2010, DIAG_1_Z_2010, CONTEO_2011, VALOR_TOT_2011, DIAG_1_A_2011, DIAG_1_B_2011, DIAG_1_C_2011, DIAG_1_D_2011, DIAG_1_E_2011, DIAG_1_F_2011, DIAG_1_G_2011, DIAG_1_H_2011, DIAG_1_I_2011, DIAG_1_J_2011, DIAG_1_K_2011, DIAG_1_L_2011, DIAG_1_M_2011, DIAG_1_N_2011, DIAG_1_O_2011, DIAG_1_P_2011, DIAG_1_Q_2011, DIAG_1_R_2011, DIAG_1_S_2011, DIAG_1_T_2011, DIAG_1_V_2011, DIAG_1_W_2011, DIAG_1_X_2011, DIAG_1_Y_2011, DIAG_1_Z_2011, GASTO_AN_2010, GASTO_AN_2011, SEXO_F, SEXO_M, EDAD_2011, EDAD_2010]\n",
       "Index: []\n",
       "\n",
       "[0 rows x 71 columns]"
      ]
     },
     "execution_count": 16,
     "metadata": {},
     "output_type": "execute_result"
    }
   ],
   "source": [
    "salud[salud['SEXO'].isnull()].head()"
   ]
  },
  {
   "cell_type": "code",
   "execution_count": 17,
   "metadata": {},
   "outputs": [
    {
     "data": {
      "text/html": [
       "<div>\n",
       "<style scoped>\n",
       "    .dataframe tbody tr th:only-of-type {\n",
       "        vertical-align: middle;\n",
       "    }\n",
       "\n",
       "    .dataframe tbody tr th {\n",
       "        vertical-align: top;\n",
       "    }\n",
       "\n",
       "    .dataframe thead th {\n",
       "        text-align: right;\n",
       "    }\n",
       "</style>\n",
       "<table border=\"1\" class=\"dataframe\">\n",
       "  <thead>\n",
       "    <tr style=\"text-align: right;\">\n",
       "      <th></th>\n",
       "      <th>VALOR_TOT_2010</th>\n",
       "      <th>VALOR_TOT_2011</th>\n",
       "      <th>GASTO_AN_2010</th>\n",
       "      <th>GASTO_AN_2010</th>\n",
       "    </tr>\n",
       "  </thead>\n",
       "  <tbody>\n",
       "    <tr>\n",
       "      <th>0</th>\n",
       "      <td>28705</td>\n",
       "      <td>61049.0</td>\n",
       "      <td>6.889200e+04</td>\n",
       "      <td>6.889200e+04</td>\n",
       "    </tr>\n",
       "    <tr>\n",
       "      <th>1</th>\n",
       "      <td>1780939</td>\n",
       "      <td>1273880.0</td>\n",
       "      <td>1.780939e+06</td>\n",
       "      <td>1.780939e+06</td>\n",
       "    </tr>\n",
       "    <tr>\n",
       "      <th>2</th>\n",
       "      <td>308008</td>\n",
       "      <td>0.0</td>\n",
       "      <td>3.080080e+05</td>\n",
       "      <td>3.080080e+05</td>\n",
       "    </tr>\n",
       "    <tr>\n",
       "      <th>3</th>\n",
       "      <td>82379</td>\n",
       "      <td>555507.0</td>\n",
       "      <td>1.552693e+05</td>\n",
       "      <td>1.552693e+05</td>\n",
       "    </tr>\n",
       "    <tr>\n",
       "      <th>4</th>\n",
       "      <td>166203</td>\n",
       "      <td>43841.0</td>\n",
       "      <td>3.324060e+05</td>\n",
       "      <td>3.324060e+05</td>\n",
       "    </tr>\n",
       "  </tbody>\n",
       "</table>\n",
       "</div>"
      ],
      "text/plain": [
       "   VALOR_TOT_2010  VALOR_TOT_2011  GASTO_AN_2010  GASTO_AN_2010\n",
       "0           28705         61049.0   6.889200e+04   6.889200e+04\n",
       "1         1780939       1273880.0   1.780939e+06   1.780939e+06\n",
       "2          308008             0.0   3.080080e+05   3.080080e+05\n",
       "3           82379        555507.0   1.552693e+05   1.552693e+05\n",
       "4          166203         43841.0   3.324060e+05   3.324060e+05"
      ]
     },
     "execution_count": 17,
     "metadata": {},
     "output_type": "execute_result"
    }
   ],
   "source": [
    "salud[['VALOR_TOT_2010','VALOR_TOT_2011','GASTO_AN_2010','GASTO_AN_2010']].head()"
   ]
  },
  {
   "cell_type": "code",
   "execution_count": 18,
   "metadata": {},
   "outputs": [
    {
     "data": {
      "text/plain": [
       "VALOR_TOT_2010    6.316394e+05\n",
       "VALOR_TOT_2011    6.259137e+05\n",
       "GASTO_AN_2010     1.297454e+06\n",
       "GASTO_AN_2010     1.297454e+06\n",
       "dtype: float64"
      ]
     },
     "execution_count": 18,
     "metadata": {},
     "output_type": "execute_result"
    }
   ],
   "source": [
    "salud[['VALOR_TOT_2010','VALOR_TOT_2011','GASTO_AN_2010','GASTO_AN_2010']].mean(axis=0)"
   ]
  },
  {
   "cell_type": "code",
   "execution_count": 19,
   "metadata": {},
   "outputs": [
    {
     "data": {
      "text/plain": [
       "VALOR_TOT_2010    6.316394e+05\n",
       "VALOR_TOT_2011    6.259137e+05\n",
       "GASTO_AN_2010     1.297454e+06\n",
       "GASTO_AN_2010     1.297454e+06\n",
       "dtype: float64"
      ]
     },
     "execution_count": 19,
     "metadata": {},
     "output_type": "execute_result"
    }
   ],
   "source": [
    "salud[['VALOR_TOT_2010','VALOR_TOT_2011','GASTO_AN_2010','GASTO_AN_2010']].mean(axis=0)"
   ]
  },
  {
   "cell_type": "code",
   "execution_count": 20,
   "metadata": {},
   "outputs": [
    {
     "data": {
      "text/plain": [
       "Index(['NUM_IDE', 'FECHA_NACI', 'SEXO', 'MUNI_2010', 'MUNI_2011', 'DPTO_2010',\n",
       "       'DPTO_2011', 'EPS_2010', 'EPS_2011', 'DIAS_COMP_2010', 'DIAS_COMP_2011',\n",
       "       'CONTEO_2010', 'VALOR_TOT_2010', 'DIAG_1_A_2010', 'DIAG_1_B_2010',\n",
       "       'DIAG_1_C_2010', 'DIAG_1_D_2010', 'DIAG_1_E_2010', 'DIAG_1_F_2010',\n",
       "       'DIAG_1_G_2010', 'DIAG_1_H_2010', 'DIAG_1_I_2010', 'DIAG_1_J_2010',\n",
       "       'DIAG_1_K_2010', 'DIAG_1_L_2010', 'DIAG_1_M_2010', 'DIAG_1_N_2010',\n",
       "       'DIAG_1_O_2010', 'DIAG_1_P_2010', 'DIAG_1_Q_2010', 'DIAG_1_R_2010',\n",
       "       'DIAG_1_S_2010', 'DIAG_1_T_2010', 'DIAG_1_V_2010', 'DIAG_1_W_2010',\n",
       "       'DIAG_1_X_2010', 'DIAG_1_Y_2010', 'DIAG_1_Z_2010', 'CONTEO_2011',\n",
       "       'VALOR_TOT_2011', 'DIAG_1_A_2011', 'DIAG_1_B_2011', 'DIAG_1_C_2011',\n",
       "       'DIAG_1_D_2011', 'DIAG_1_E_2011', 'DIAG_1_F_2011', 'DIAG_1_G_2011',\n",
       "       'DIAG_1_H_2011', 'DIAG_1_I_2011', 'DIAG_1_J_2011', 'DIAG_1_K_2011',\n",
       "       'DIAG_1_L_2011', 'DIAG_1_M_2011', 'DIAG_1_N_2011', 'DIAG_1_O_2011',\n",
       "       'DIAG_1_P_2011', 'DIAG_1_Q_2011', 'DIAG_1_R_2011', 'DIAG_1_S_2011',\n",
       "       'DIAG_1_T_2011', 'DIAG_1_V_2011', 'DIAG_1_W_2011', 'DIAG_1_X_2011',\n",
       "       'DIAG_1_Y_2011', 'DIAG_1_Z_2011', 'GASTO_AN_2010', 'GASTO_AN_2011',\n",
       "       'SEXO_F', 'SEXO_M', 'EDAD_2011', 'EDAD_2010'],\n",
       "      dtype='object')"
      ]
     },
     "execution_count": 20,
     "metadata": {},
     "output_type": "execute_result"
    }
   ],
   "source": [
    "salud.columns"
   ]
  },
  {
   "cell_type": "code",
   "execution_count": 21,
   "metadata": {},
   "outputs": [],
   "source": [
    "salud.drop(['DIAS_COMP_2010','DIAS_COMP_2011','CONTEO_2010','CONTEO_2011',],axis = 1, inplace = True)"
   ]
  },
  {
   "cell_type": "markdown",
   "metadata": {},
   "source": [
    "### Filtrar filas\n",
    "<img src=\"https://pandas.pydata.org/docs/_images/03_subset_rows.svg\" title=\"Filas\">"
   ]
  },
  {
   "cell_type": "code",
   "execution_count": 23,
   "metadata": {},
   "outputs": [
    {
     "data": {
      "text/html": [
       "<div>\n",
       "<style scoped>\n",
       "    .dataframe tbody tr th:only-of-type {\n",
       "        vertical-align: middle;\n",
       "    }\n",
       "\n",
       "    .dataframe tbody tr th {\n",
       "        vertical-align: top;\n",
       "    }\n",
       "\n",
       "    .dataframe thead th {\n",
       "        text-align: right;\n",
       "    }\n",
       "</style>\n",
       "<table border=\"1\" class=\"dataframe\">\n",
       "  <thead>\n",
       "    <tr style=\"text-align: right;\">\n",
       "      <th></th>\n",
       "      <th>NUM_IDE</th>\n",
       "      <th>FECHA_NACI</th>\n",
       "      <th>SEXO</th>\n",
       "      <th>MUNI_2010</th>\n",
       "      <th>MUNI_2011</th>\n",
       "      <th>DPTO_2010</th>\n",
       "      <th>DPTO_2011</th>\n",
       "      <th>EPS_2010</th>\n",
       "      <th>EPS_2011</th>\n",
       "      <th>VALOR_TOT_2010</th>\n",
       "      <th>...</th>\n",
       "      <th>DIAG_1_W_2011</th>\n",
       "      <th>DIAG_1_X_2011</th>\n",
       "      <th>DIAG_1_Y_2011</th>\n",
       "      <th>DIAG_1_Z_2011</th>\n",
       "      <th>GASTO_AN_2010</th>\n",
       "      <th>GASTO_AN_2011</th>\n",
       "      <th>SEXO_F</th>\n",
       "      <th>SEXO_M</th>\n",
       "      <th>EDAD_2011</th>\n",
       "      <th>EDAD_2010</th>\n",
       "    </tr>\n",
       "  </thead>\n",
       "  <tbody>\n",
       "    <tr>\n",
       "      <th>7573</th>\n",
       "      <td>008B49A9-D8E0-4A73-8A18-E8193A9F4B6D</td>\n",
       "      <td>1935-06-28</td>\n",
       "      <td>F</td>\n",
       "      <td>1</td>\n",
       "      <td>1</td>\n",
       "      <td>5</td>\n",
       "      <td>5</td>\n",
       "      <td>EPS037</td>\n",
       "      <td>EPS037</td>\n",
       "      <td>115238</td>\n",
       "      <td>...</td>\n",
       "      <td>False</td>\n",
       "      <td>False</td>\n",
       "      <td>False</td>\n",
       "      <td>False</td>\n",
       "      <td>115238.0</td>\n",
       "      <td>104100.0</td>\n",
       "      <td>1</td>\n",
       "      <td>0</td>\n",
       "      <td>75</td>\n",
       "      <td>74</td>\n",
       "    </tr>\n",
       "    <tr>\n",
       "      <th>99997</th>\n",
       "      <td>072C8AB4-47EB-441E-98A9-FD47F3315A81</td>\n",
       "      <td>1935-06-28</td>\n",
       "      <td>F</td>\n",
       "      <td>1</td>\n",
       "      <td>1</td>\n",
       "      <td>76</td>\n",
       "      <td>76</td>\n",
       "      <td>EPS037</td>\n",
       "      <td>EPS037</td>\n",
       "      <td>129626</td>\n",
       "      <td>...</td>\n",
       "      <td>False</td>\n",
       "      <td>False</td>\n",
       "      <td>False</td>\n",
       "      <td>True</td>\n",
       "      <td>129626.0</td>\n",
       "      <td>333262.0</td>\n",
       "      <td>1</td>\n",
       "      <td>0</td>\n",
       "      <td>75</td>\n",
       "      <td>74</td>\n",
       "    </tr>\n",
       "  </tbody>\n",
       "</table>\n",
       "<p>2 rows × 67 columns</p>\n",
       "</div>"
      ],
      "text/plain": [
       "                                    NUM_IDE  FECHA_NACI SEXO  MUNI_2010  \\\n",
       "7573   008B49A9-D8E0-4A73-8A18-E8193A9F4B6D  1935-06-28    F          1   \n",
       "99997  072C8AB4-47EB-441E-98A9-FD47F3315A81  1935-06-28    F          1   \n",
       "\n",
       "       MUNI_2011  DPTO_2010  DPTO_2011 EPS_2010 EPS_2011  VALOR_TOT_2010  ...  \\\n",
       "7573           1          5          5   EPS037   EPS037          115238  ...   \n",
       "99997          1         76         76   EPS037   EPS037          129626  ...   \n",
       "\n",
       "       DIAG_1_W_2011  DIAG_1_X_2011  DIAG_1_Y_2011  DIAG_1_Z_2011  \\\n",
       "7573           False          False          False          False   \n",
       "99997          False          False          False           True   \n",
       "\n",
       "       GASTO_AN_2010  GASTO_AN_2011  SEXO_F  SEXO_M  EDAD_2011  EDAD_2010  \n",
       "7573        115238.0       104100.0       1       0         75         74  \n",
       "99997       129626.0       333262.0       1       0         75         74  \n",
       "\n",
       "[2 rows x 67 columns]"
      ]
     },
     "execution_count": 23,
     "metadata": {},
     "output_type": "execute_result"
    }
   ],
   "source": [
    "salud.loc[salud.FECHA_NACI == '1935-06-28']"
   ]
  },
  {
   "cell_type": "markdown",
   "metadata": {},
   "source": [
    "### Filas y columnas\n",
    "<img src=\"https://pandas.pydata.org/docs/_images/03_subset_columns_rows.svg\" title=\"Filas y Columnas\">"
   ]
  },
  {
   "cell_type": "code",
   "execution_count": 24,
   "metadata": {},
   "outputs": [
    {
     "data": {
      "text/plain": [
       "7573     F\n",
       "99997    F\n",
       "Name: SEXO, dtype: object"
      ]
     },
     "execution_count": 24,
     "metadata": {},
     "output_type": "execute_result"
    }
   ],
   "source": [
    "salud.loc[salud.FECHA_NACI == '1935-06-28','SEXO']"
   ]
  },
  {
   "cell_type": "code",
   "execution_count": 25,
   "metadata": {},
   "outputs": [
    {
     "data": {
      "text/plain": [
       "<bound method IndexOpsMixin.value_counts of 7573     F\n",
       "99997    F\n",
       "Name: SEXO, dtype: object>"
      ]
     },
     "execution_count": 25,
     "metadata": {},
     "output_type": "execute_result"
    }
   ],
   "source": [
    "salud.loc[salud.FECHA_NACI == '1935-06-28','SEXO'].value_counts"
   ]
  }
 ],
 "metadata": {
  "kernelspec": {
   "display_name": "base",
   "language": "python",
   "name": "python3"
  },
  "language_info": {
   "codemirror_mode": {
    "name": "ipython",
    "version": 3
   },
   "file_extension": ".py",
   "mimetype": "text/x-python",
   "name": "python",
   "nbconvert_exporter": "python",
   "pygments_lexer": "ipython3",
   "version": "3.11.7"
  },
  "orig_nbformat": 4
 },
 "nbformat": 4,
 "nbformat_minor": 2
}
